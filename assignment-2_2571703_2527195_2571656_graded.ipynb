{
 "cells": [
  {
   "cell_type": "markdown",
   "metadata": {},
   "source": [
    "# Exercise Sheet 2: Linear Algebra and TensorFlow Basics (Deadline: 14 Nov 14:00)"
   ]
  },
  {
   "cell_type": "markdown",
   "metadata": {},
   "source": [
    "# Linear Algebra (11 points)\n",
    "For theoretical tasks you are encouraged to write LaTeX. Jupyter notebooks support them simply by typing an expression between dollar signs or in the blocks like \\ begin{equation} \\ end{equation}.\n",
    "\n",
    "\n",
    "Alternatively, you can upload the solutions in the written form as images and paste them inside cells. But if you do this, make sure that the images have high quality, so we can read them without any problems."
   ]
  },
  {
   "cell_type": "markdown",
   "metadata": {},
   "source": [
    "### 1. Orthogonal vectors (1 point)\n",
    "Let $a, b$ be non-zero vectors in $R^n$. Show that $a^T b$ = 0 **if and only if** a and b are orthogonal vectors (i.e. angle between them equals $\\frac{\\pi}{2} + k \\pi$ radians).\n",
    "\n",
    "Hint: be careful to prove 2 directions: \n",
    "1.) $a^T b$ = 0 $\\implies$ orthogonality and 2.) orthogonality $\\implies$ $a^T b$ = 0."
   ]
  },
  {
   "cell_type": "code",
   "execution_count": 1,
   "metadata": {},
   "outputs": [
    {
     "data": {
      "text/html": [
       "<img src=\"https://github.com/jojoayan1992/SaarlandUniversityNeuralNetworks/blob/master/NN%20Assignment%202_1.jpg?raw=true\"/>"
      ],
      "text/plain": [
       "<IPython.core.display.Image object>"
      ]
     },
     "execution_count": 1,
     "metadata": {},
     "output_type": "execute_result"
    }
   ],
   "source": [
    "from IPython.display import Image\n",
    "Image(url='https://github.com/jojoayan1992/SaarlandUniversityNeuralNetworks/blob/master/NN%20Assignment%202_1.jpg?raw=true')"
   ]
  },
  {
   "cell_type": "markdown",
   "metadata": {},
   "source": [
    "\n",
    "### 2. Interpretation of matrix multiplication (2 points)\n",
    "Let \n",
    "$$\n",
    "A=\\begin{bmatrix} 2 & 4 \\\\ 4 & 2 \\\\ 2 & 0 \\end{bmatrix} \\ \\ \\ \\ \n",
    "B=\\begin{bmatrix} 0.6 & -0.8 \\\\ 0.8 & 0.6 \\end{bmatrix}\n",
    "$$\n",
    "a. Are the column vectors of B orthogonal? Orthonormal? Is B a rotation matrix? Justify your answers.(0.5 points)\n",
    "\n",
    "b. Calculate $A \\cdot B$. (0.5 points)\n",
    "\n",
    "c. What is the interpretation of a matrix multiplication, when the column vectors of B are orthonormal (you may want to draw a simple picture visualizing row vectors of A and column vectors of B, but you don't need to submit it)? (1 point)\n",
    "\n"
   ]
  },
  {
   "cell_type": "code",
   "execution_count": 2,
   "metadata": {},
   "outputs": [
    {
     "data": {
      "text/html": [
       "<img src=\"https://github.com/jojoayan1992/SaarlandUniversityNeuralNetworks/blob/master/NN%20Assignment%202_2.jpg?raw=true\"/>"
      ],
      "text/plain": [
       "<IPython.core.display.Image object>"
      ]
     },
     "execution_count": 2,
     "metadata": {},
     "output_type": "execute_result"
    }
   ],
   "source": [
    "from IPython.display import Image\n",
    "Image(url='https://github.com/jojoayan1992/SaarlandUniversityNeuralNetworks/blob/master/NN%20Assignment%202_2.jpg?raw=true')"
   ]
  },
  {
   "cell_type": "code",
   "execution_count": 3,
   "metadata": {},
   "outputs": [
    {
     "data": {
      "text/html": [
       "<img src=\"https://github.com/jojoayan1992/SaarlandUniversityNeuralNetworks/blob/master/NN%20Assignment%202_3.jpg?raw=true\"/>"
      ],
      "text/plain": [
       "<IPython.core.display.Image object>"
      ]
     },
     "execution_count": 3,
     "metadata": {},
     "output_type": "execute_result"
    }
   ],
   "source": [
    "from IPython.display import Image\n",
    "Image(url='https://github.com/jojoayan1992/SaarlandUniversityNeuralNetworks/blob/master/NN%20Assignment%202_3.jpg?raw=true')"
   ]
  },
  {
   "cell_type": "code",
   "execution_count": 4,
   "metadata": {},
   "outputs": [
    {
     "data": {
      "text/html": [
       "<img src=\"https://github.com/jojoayan1992/SaarlandUniversityNeuralNetworks/blob/master/NN%20Assignment%202_4.jpg?raw=true\"/>"
      ],
      "text/plain": [
       "<IPython.core.display.Image object>"
      ]
     },
     "execution_count": 4,
     "metadata": {},
     "output_type": "execute_result"
    }
   ],
   "source": [
    "from IPython.display import Image\n",
    "Image(url='https://github.com/jojoayan1992/SaarlandUniversityNeuralNetworks/blob/master/NN%20Assignment%202_4.jpg?raw=true')"
   ]
  },
  {
   "cell_type": "markdown",
   "metadata": {},
   "source": [
    "\n",
    "### 3. Property of $X^T X$ matrix (1 point)\n",
    "Let $X \\in R^{m×n}$ be a matrix obtained by stacking all training vectors (also called \"design matrix\"), like in the lecture. Obviously, it can be an arbritrary matrix. However a covariance matrix $C = X^T X$ has some interesting properties, namely it is always a positive semidefinite matrix ($v^T Cv \\geq 0$ for all non-zero $v \\in R^n$). Prove this statement.\n",
    "\n",
    "Hint: $v^T C v$ can be represented as a squared norm of some vector.\n"
   ]
  },
  {
   "cell_type": "code",
   "execution_count": 5,
   "metadata": {},
   "outputs": [
    {
     "data": {
      "text/html": [
       "<img src=\"https://github.com/jojoayan1992/SaarlandUniversityNeuralNetworks/blob/master/NN%20Assignment%202_5.jpg?raw=true\"/>"
      ],
      "text/plain": [
       "<IPython.core.display.Image object>"
      ]
     },
     "execution_count": 5,
     "metadata": {},
     "output_type": "execute_result"
    }
   ],
   "source": [
    "from IPython.display import Image\n",
    "Image(url='https://github.com/jojoayan1992/SaarlandUniversityNeuralNetworks/blob/master/NN%20Assignment%202_5.jpg?raw=true')"
   ]
  },
  {
   "cell_type": "markdown",
   "metadata": {},
   "source": [
    "\n",
    "### 4. Eigendecomposition (4 points)\n",
    "Consider the following matrix:\n",
    "$$\n",
    "M=\\begin{bmatrix}\n",
    "    1 & -1 & 0 \\\\\n",
    "    -1 & 2 & -1 \\\\\n",
    "    0 & -1 & 1\n",
    "  \\end{bmatrix}\n",
    "$$\n",
    "Is the matrix M:\n",
    "\n",
    "a. Symmetric? What does it imply for its eigendecomposition? (0.5 points)\n",
    "\n",
    "b. Singular? What does it imply for its eigendecomposition? (0.5 points)\n",
    "\n",
    "c. Find the eigendecomposition of M (3 points).\n"
   ]
  },
  {
   "cell_type": "code",
   "execution_count": 6,
   "metadata": {},
   "outputs": [
    {
     "data": {
      "text/html": [
       "<img src=\"https://raw.githubusercontent.com/jojoayan1992/SaarlandUniversityNeuralNetworks/master/NN%20Assignment%202_6.jpg\"/>"
      ],
      "text/plain": [
       "<IPython.core.display.Image object>"
      ]
     },
     "execution_count": 6,
     "metadata": {},
     "output_type": "execute_result"
    }
   ],
   "source": [
    "from IPython.display import Image\n",
    "Image(url='https://raw.githubusercontent.com/jojoayan1992/SaarlandUniversityNeuralNetworks/master/NN%20Assignment%202_6.jpg')"
   ]
  },
  {
   "cell_type": "code",
   "execution_count": 7,
   "metadata": {},
   "outputs": [
    {
     "data": {
      "text/html": [
       "<img src=\"https://raw.githubusercontent.com/jojoayan1992/SaarlandUniversityNeuralNetworks/master/NN%20Assignment%202_7.jpg\"/>"
      ],
      "text/plain": [
       "<IPython.core.display.Image object>"
      ]
     },
     "execution_count": 7,
     "metadata": {},
     "output_type": "execute_result"
    }
   ],
   "source": [
    "from IPython.display import Image\n",
    "Image(url='https://raw.githubusercontent.com/jojoayan1992/SaarlandUniversityNeuralNetworks/master/NN%20Assignment%202_7.jpg')"
   ]
  },
  {
   "cell_type": "code",
   "execution_count": 8,
   "metadata": {},
   "outputs": [
    {
     "data": {
      "text/html": [
       "<img src=\"https://raw.githubusercontent.com/jojoayan1992/SaarlandUniversityNeuralNetworks/master/NN%20Assignment%202_8.jpg\"/>"
      ],
      "text/plain": [
       "<IPython.core.display.Image object>"
      ]
     },
     "execution_count": 8,
     "metadata": {},
     "output_type": "execute_result"
    }
   ],
   "source": [
    "from IPython.display import Image\n",
    "Image(url='https://raw.githubusercontent.com/jojoayan1992/SaarlandUniversityNeuralNetworks/master/NN%20Assignment%202_8.jpg')"
   ]
  },
  {
   "cell_type": "code",
   "execution_count": 9,
   "metadata": {},
   "outputs": [
    {
     "data": {
      "text/html": [
       "<img src=\"https://raw.githubusercontent.com/jojoayan1992/SaarlandUniversityNeuralNetworks/master/NN%20Assignment%202_9.jpg\"/>"
      ],
      "text/plain": [
       "<IPython.core.display.Image object>"
      ]
     },
     "execution_count": 9,
     "metadata": {},
     "output_type": "execute_result"
    }
   ],
   "source": [
    "from IPython.display import Image\n",
    "Image(url='https://raw.githubusercontent.com/jojoayan1992/SaarlandUniversityNeuralNetworks/master/NN%20Assignment%202_9.jpg')"
   ]
  },
  {
   "cell_type": "markdown",
   "metadata": {},
   "source": [
    "\n",
    "### 5. Rayleigh-Ritz principle (3 points)\n",
    "On the lecture we saw that the exact solution for decoding matrix D in PCA problem is a matrix that contains the $l$ eigenvectors corresponding to the largest eigenvalues of $X^T X$, where X is a design matrix. But where does it come from?\n",
    "\n",
    "If you want to see full derivation of PCA, you can find it in Deep Learning Book, chapter 2.12. In this exercise we would like to focus only on Raleigh-Ritz principle, which allows to solve optimization problems of type $min_{||v||_2 = 1} v^T C v$ or $max_{||v||_2 = 1} v^T C v$ using eigendecomposition of C.\n",
    "\n",
    "So prove that $min_{||v||_2 = 1} v^T C v = \\lambda_{min}$, where $\\lambda_{min}$ is the smallest eigenvalue of C. For which vector $v$ this minimum is attained? (the proof for $max_{||v||_2 = 1} v^T C v = \\lambda_{max}$ is analogous).\n"
   ]
  },
  {
   "cell_type": "code",
   "execution_count": 10,
   "metadata": {},
   "outputs": [
    {
     "data": {
      "text/html": [
       "<img src=\"https://raw.githubusercontent.com/jojoayan1992/SaarlandUniversityNeuralNetworks/master/NN%20Assignment%202_10.jpg\"/>"
      ],
      "text/plain": [
       "<IPython.core.display.Image object>"
      ]
     },
     "execution_count": 10,
     "metadata": {},
     "output_type": "execute_result"
    }
   ],
   "source": [
    "from IPython.display import Image\n",
    "Image(url='https://raw.githubusercontent.com/jojoayan1992/SaarlandUniversityNeuralNetworks/master/NN%20Assignment%202_10.jpg')"
   ]
  },
  {
   "cell_type": "markdown",
   "metadata": {},
   "source": [
    "**Points**: 9.0 of 11.0\n",
    "**Comments**:\n",
    "- Regarding exercise 5: The substitution $\\mathbf{A}v = \\lambda v$ applies only if $v$ is an eigenvector. You should have prooved that $\\lambda_{min}$ is a lower bound for arbitrary vectors $v$. Only in the case of $v = v_{min}$ with $v_{min}$ being the eigenvector corresonding to $\\lambda_{min}$ this lower bound is tight. Which is what you proved here. (-2.0 points)"
   ]
  },
  {
   "cell_type": "markdown",
   "metadata": {},
   "source": [
    "# TensorFlow (9 points)\n",
    "\n",
    "### 1. A simple computational graph in Tensorflow (2 + 1 = 3 points)\n",
    "To get started with TensorFlow we ask you to specify a very simple computational graph of the function $f(x) = x^2 + 2x + 5$ and also taking its derivative.\n",
    "If you don't know how to proceed, please study the example given on the lecture and also the official TenorFlow starting guide: https://www.tensorflow.org/get_started/get_started.\n",
    "\n",
    "This exercise requires around 10 lines of code, it is simple enough. However, it is very important to understand the notion of computational graph. \n",
    "\n",
    "Actually, this simple example will be a backbone for all neural networks in the future. All what we will need is to specify first the forward pass (f), and then take derivatives with respect to parameters (x), in order to update them, so they minimize the loss function f. But we will come back to this in several weeks."
   ]
  },
  {
   "cell_type": "code",
   "execution_count": 11,
   "metadata": {},
   "outputs": [
    {
     "name": "stdout",
     "output_type": "stream",
     "text": [
      "[ -1.00000000e+01  -9.90000000e+00  -9.80000000e+00  -9.70000000e+00\n",
      "  -9.60000000e+00  -9.50000000e+00  -9.40000000e+00  -9.30000000e+00\n",
      "  -9.20000000e+00  -9.10000000e+00  -9.00000000e+00  -8.90000000e+00\n",
      "  -8.80000000e+00  -8.70000000e+00  -8.60000000e+00  -8.50000000e+00\n",
      "  -8.40000000e+00  -8.30000000e+00  -8.20000000e+00  -8.10000000e+00\n",
      "  -8.00000000e+00  -7.90000000e+00  -7.80000000e+00  -7.70000000e+00\n",
      "  -7.60000000e+00  -7.50000000e+00  -7.40000000e+00  -7.30000000e+00\n",
      "  -7.20000000e+00  -7.10000000e+00  -7.00000000e+00  -6.90000000e+00\n",
      "  -6.80000000e+00  -6.70000000e+00  -6.60000000e+00  -6.50000000e+00\n",
      "  -6.40000000e+00  -6.30000000e+00  -6.20000000e+00  -6.10000000e+00\n",
      "  -6.00000000e+00  -5.90000000e+00  -5.80000000e+00  -5.70000000e+00\n",
      "  -5.60000000e+00  -5.50000000e+00  -5.40000000e+00  -5.30000000e+00\n",
      "  -5.20000000e+00  -5.10000000e+00  -5.00000000e+00  -4.90000000e+00\n",
      "  -4.80000000e+00  -4.70000000e+00  -4.60000000e+00  -4.50000000e+00\n",
      "  -4.40000000e+00  -4.30000000e+00  -4.20000000e+00  -4.10000000e+00\n",
      "  -4.00000000e+00  -3.90000000e+00  -3.80000000e+00  -3.70000000e+00\n",
      "  -3.60000000e+00  -3.50000000e+00  -3.40000000e+00  -3.30000000e+00\n",
      "  -3.20000000e+00  -3.10000000e+00  -3.00000000e+00  -2.90000000e+00\n",
      "  -2.80000000e+00  -2.70000000e+00  -2.60000000e+00  -2.50000000e+00\n",
      "  -2.40000000e+00  -2.30000000e+00  -2.20000000e+00  -2.10000000e+00\n",
      "  -2.00000000e+00  -1.90000000e+00  -1.80000000e+00  -1.70000000e+00\n",
      "  -1.60000000e+00  -1.50000000e+00  -1.40000000e+00  -1.30000000e+00\n",
      "  -1.20000000e+00  -1.10000000e+00  -1.00000000e+00  -9.00000000e-01\n",
      "  -8.00000000e-01  -7.00000000e-01  -6.00000000e-01  -5.00000000e-01\n",
      "  -4.00000000e-01  -3.00000000e-01  -2.00000000e-01  -1.00000000e-01\n",
      "  -3.55271368e-14   1.00000000e-01   2.00000000e-01   3.00000000e-01\n",
      "   4.00000000e-01   5.00000000e-01   6.00000000e-01   7.00000000e-01\n",
      "   8.00000000e-01   9.00000000e-01   1.00000000e+00   1.10000000e+00\n",
      "   1.20000000e+00   1.30000000e+00   1.40000000e+00   1.50000000e+00\n",
      "   1.60000000e+00   1.70000000e+00   1.80000000e+00   1.90000000e+00\n",
      "   2.00000000e+00   2.10000000e+00   2.20000000e+00   2.30000000e+00\n",
      "   2.40000000e+00   2.50000000e+00   2.60000000e+00   2.70000000e+00\n",
      "   2.80000000e+00   2.90000000e+00   3.00000000e+00   3.10000000e+00\n",
      "   3.20000000e+00   3.30000000e+00   3.40000000e+00   3.50000000e+00\n",
      "   3.60000000e+00   3.70000000e+00   3.80000000e+00   3.90000000e+00\n",
      "   4.00000000e+00   4.10000000e+00   4.20000000e+00   4.30000000e+00\n",
      "   4.40000000e+00   4.50000000e+00   4.60000000e+00   4.70000000e+00\n",
      "   4.80000000e+00   4.90000000e+00   5.00000000e+00   5.10000000e+00\n",
      "   5.20000000e+00   5.30000000e+00   5.40000000e+00   5.50000000e+00\n",
      "   5.60000000e+00   5.70000000e+00   5.80000000e+00   5.90000000e+00\n",
      "   6.00000000e+00   6.10000000e+00   6.20000000e+00   6.30000000e+00\n",
      "   6.40000000e+00   6.50000000e+00   6.60000000e+00   6.70000000e+00\n",
      "   6.80000000e+00   6.90000000e+00   7.00000000e+00   7.10000000e+00\n",
      "   7.20000000e+00   7.30000000e+00   7.40000000e+00   7.50000000e+00\n",
      "   7.60000000e+00   7.70000000e+00   7.80000000e+00   7.90000000e+00\n",
      "   8.00000000e+00   8.10000000e+00   8.20000000e+00   8.30000000e+00\n",
      "   8.40000000e+00   8.50000000e+00   8.60000000e+00   8.70000000e+00\n",
      "   8.80000000e+00   8.90000000e+00   9.00000000e+00   9.10000000e+00\n",
      "   9.20000000e+00   9.30000000e+00   9.40000000e+00   9.50000000e+00\n",
      "   9.60000000e+00   9.70000000e+00   9.80000000e+00   9.90000000e+00\n",
      "   1.00000000e+01]\n",
      "Function values: [  85.           83.20999146   81.44000244   79.68999481   77.96000671\n",
      "   76.25         74.55999756   72.89000702   71.23999786   69.61000061\n",
      "   68.           66.4099884    64.84000397   63.28999329   61.76000595\n",
      "   60.25         58.75999069   57.29000092   55.83999634   54.41000748\n",
      "   53.           51.61000061   50.24000549   48.88999939   47.55999756\n",
      "   46.25         44.9600029    43.69000244   42.43999481   41.20999908\n",
      "   40.           38.81000137   37.63999939   36.48999786   35.3599968\n",
      "   34.25         33.16000366   32.09000397   31.03999901   30.00999832\n",
      "   29.           28.01000214   27.04000282   26.08999825   25.15999985\n",
      "   24.25         23.36000061   22.49000168   21.63999748   20.80999756\n",
      "   20.           19.20999908   18.44000053   17.68999863   16.95999908\n",
      "   16.25         15.56000042   14.8900013    14.23999786   13.60999966\n",
      "   13.           12.4100008    11.84000015   11.29000092   10.75999928\n",
      "   10.25          9.76000023    9.28999901    8.84000015    8.40999985\n",
      "    8.            7.61000061    7.23999977    6.89000034    6.55999947\n",
      "    6.25          5.96000004    5.69000006    5.44000006    5.20999956\n",
      "    5.            4.80999994    4.63999987    4.48999977    4.36000013\n",
      "    4.25          4.15999985    4.09000015    4.03999996    4.01000023\n",
      "    4.            4.01000023    4.03999996    4.09000015    4.15999985\n",
      "    4.25          4.36000013    4.48999977    4.63999987    4.80999994\n",
      "    5.            5.21000004    5.44000006    5.69000006    5.96000004\n",
      "    6.25          6.55999994    6.88999987    7.23999977    7.60999966\n",
      "    8.            8.40999985    8.84000015    9.28999996    9.76000023\n",
      "   10.25         10.76000023   11.28999996   11.84000015   12.40999985\n",
      "   13.           13.6099987    14.23999977   14.88999939   15.56000042\n",
      "   16.25         16.95999908   17.69000053   18.43999863   19.21000099\n",
      "   20.           20.80999947   21.6400013    22.48999977   23.36000061\n",
      "   24.25         25.15999985   26.09000015   27.03999901   28.01000214\n",
      "   29.           30.00999832   31.0399971    32.09000397   33.15999985\n",
      "   34.25         35.36000061   36.48999786   37.63999939   38.81000137\n",
      "   40.           41.20999908   42.43999481   43.69000244   44.9600029\n",
      "   46.25         47.55999756   48.88999939   50.24000549   51.61000061\n",
      "   53.           54.40999985   55.83999634   57.29000092   58.76000214\n",
      "   60.25         61.75999832   63.28999329   64.84000397   66.41000366\n",
      "   68.           69.61000061   71.23999786   72.88999939   74.56000519\n",
      "   76.25         77.95999908   79.68999481   81.44000244   83.20999908\n",
      "   85.           86.81001282   88.63999939   90.48999786   92.35998535\n",
      "   94.25         96.16000366   98.08999634  100.04000092  102.00999451\n",
      "  104.          106.01000977  108.04000092  110.09000397  112.1599884\n",
      "  114.25        116.36000061  118.48999786  120.63999939  122.80999756\n",
      "  125.        ]\n",
      "Derivative values: [-18.         -17.79999924 -17.60000038 -17.39999962 -17.20000076 -17.\n",
      " -16.79999924 -16.60000038 -16.39999962 -16.20000076 -16.         -15.79999924\n",
      " -15.60000038 -15.39999962 -15.20000076 -15.         -14.79999924\n",
      " -14.60000038 -14.39999962 -14.20000076 -14.         -13.80000019\n",
      " -13.60000038 -13.39999962 -13.19999981 -13.         -12.80000019\n",
      " -12.60000038 -12.39999962 -12.19999981 -12.         -11.80000019\n",
      " -11.60000038 -11.39999962 -11.19999981 -11.         -10.80000019\n",
      " -10.60000038 -10.39999962 -10.19999981 -10.          -9.80000019\n",
      "  -9.60000038  -9.39999962  -9.19999981  -9.          -8.80000019\n",
      "  -8.60000038  -8.39999962  -8.19999981  -8.          -7.80000019\n",
      "  -7.60000038  -7.39999962  -7.19999981  -7.          -6.80000019\n",
      "  -6.60000038  -6.39999962  -6.19999981  -6.          -5.80000019\n",
      "  -5.5999999   -5.4000001   -5.19999981  -5.          -4.80000019\n",
      "  -4.5999999   -4.4000001   -4.19999981  -4.          -3.80000019\n",
      "  -3.5999999   -3.4000001   -3.19999981  -3.          -2.80000019\n",
      "  -2.5999999   -2.4000001   -2.19999981  -2.          -1.79999995\n",
      "  -1.5999999   -1.4000001   -1.20000005  -1.          -0.79999995\n",
      "  -0.5999999   -0.4000001   -0.20000005   0.           0.20000005\n",
      "   0.39999998   0.60000002   0.79999995   1.           1.20000005\n",
      "   1.39999998   1.60000002   1.79999995   2.           2.20000005\n",
      "   2.4000001    2.5999999    2.79999995   3.           3.20000005\n",
      "   3.4000001    3.5999999    3.79999995   4.           4.19999981\n",
      "   4.4000001    4.5999999    4.80000019   5.           5.19999981\n",
      "   5.4000001    5.5999999    5.80000019   6.           6.19999981\n",
      "   6.4000001    6.5999999    6.80000019   7.           7.19999981\n",
      "   7.4000001    7.5999999    7.80000019   8.           8.19999981\n",
      "   8.39999962   8.60000038   8.80000019   9.           9.19999981\n",
      "   9.39999962   9.60000038   9.80000019  10.          10.19999981\n",
      "  10.39999962  10.60000038  10.80000019  11.          11.19999981\n",
      "  11.39999962  11.60000038  11.80000019  12.          12.19999981\n",
      "  12.39999962  12.60000038  12.80000019  13.          13.19999981\n",
      "  13.39999962  13.60000038  13.80000019  14.          14.19999981\n",
      "  14.39999962  14.60000038  14.80000019  15.          15.19999981\n",
      "  15.39999962  15.60000038  15.80000019  16.          16.20000076\n",
      "  16.39999962  16.60000038  16.79999924  17.          17.20000076\n",
      "  17.39999962  17.60000038  17.79999924  18.          18.20000076\n",
      "  18.39999962  18.60000038  18.79999924  19.          19.20000076\n",
      "  19.39999962  19.60000038  19.79999924  20.          20.20000076\n",
      "  20.39999962  20.60000038  20.79999924  21.          21.20000076\n",
      "  21.39999962  21.60000038  21.79999924  22.        ]\n",
      "Function value for particular x: 8.471053666078532  is  93.7009\n",
      "Derivative value for particular x: 8.471053666078532  is  [18.942108]\n"
     ]
    },
    {
     "data": {
      "text/plain": [
       "<matplotlib.legend.Legend at 0x7faf44d88eb8>"
      ]
     },
     "execution_count": 11,
     "metadata": {},
     "output_type": "execute_result"
    },
    {
     "data": {
      "image/png": "[encoded data removed]",
      "text/plain": [
       "<matplotlib.figure.Figure at 0x7faf508aff98>"
      ]
     },
     "metadata": {},
     "output_type": "display_data"
    }
   ],
   "source": [
    "%matplotlib inline\n",
    "import tensorflow as tf\n",
    "import matplotlib.pyplot as plt\n",
    "import numpy as np\n",
    "\n",
    "### Define a simple comp. graph (note that all its components are special TensorFlow objects)\n",
    "# Specify an input x to the comp. graph\n",
    "\n",
    "\n",
    "# We create the computational graph nodes here\n",
    "# x-> our variable which is going to be a placeholder\n",
    "# c-> the node that corresponds to constant intercept\n",
    "# b-> node that computes 2*x\n",
    "# a-> node that corresponds to x^2\n",
    "x = tf.placeholder(tf.float32)\n",
    "c = tf.constant(5.0)\n",
    "b = 2*x\n",
    "a = tf.square(x)\n",
    "\n",
    "# Specify f(x) = x^2 + 2x + 5 \n",
    "\n",
    "# The node that actually combines the previous nodes to generate the function\n",
    "func_x = a + b + c\n",
    "\n",
    "# Take derivative of f with respect to x. That will be very important in the future, since you will only\n",
    "# need to specify forward pass of your neural network, and all derivatives will be determined automatically by \n",
    "# TensorFlow.\n",
    "\n",
    "# TensorFlow node that corresponds to the derivative of the given function\n",
    "derivative = tf.gradients(func_x, x)\n",
    "\n",
    "### Execute the comp. graph\n",
    "# Create a TensorFlow session\n",
    "sess = tf.Session()\n",
    "\n",
    "# Evaluate the function value and its derivative for values from -10 to 10 with step 0.1\n",
    "# We use numpy to generate a numpy ndarray for the desired range and step \n",
    "x_range = np.arange(-10.0,10.1,0.1)\n",
    "print(x_range)\n",
    "# We use session run to generate the output of the function\n",
    "y_fn = sess.run(func_x, {x:x_range})\n",
    "print(\"Function values:\", y_fn)\n",
    "# We now use run to generate the output of the derivatives\n",
    "y_deriv = sess.run(derivative, {x:x_range})\n",
    "print(\"Derivative values:\", y_deriv[0])\n",
    "\n",
    "# Evaluate values of f and its derivative based on a particular input x\n",
    "# Generating just a random value here and evaluating the function and derivative output.\n",
    "x_rand = np.asscalar(10 * np.random.rand(1))\n",
    "y_r = sess.run(func_x, {x:x_rand})\n",
    "print(\"Function value for particular x:\",x_rand,\" is \", y_r)\n",
    "der_r = sess.run(derivative, {x:x_rand})\n",
    "print(\"Derivative value for particular x:\",x_rand,\" is \", der_r)\n",
    "# Plot the function f (use matplotlib library)\n",
    "\n",
    "fig, axes = plt.subplots(1, 1)\n",
    "axes.plot(x_range, y_fn, color='red', ls='-', label='Function')\n",
    "\n",
    "axes.scatter(x_rand, y_r, color = 'blue', marker='.', alpha=.6, s=2e2)\n",
    "\n",
    "# Plot the derivative of the function f\n",
    "axes.plot(x_range, y_deriv[0], color='blue', ls='-', label='Derivative')\n",
    "\n",
    "axes.scatter(x_rand, der_r, color='green', marker='.', alpha=.6, s=2e2)\n",
    "axes.legend(loc='upper left')"
   ]
  },
  {
   "cell_type": "markdown",
   "metadata": {},
   "source": [
    "#### Tensorflow Questions:\n",
    "1.) In the exercise above x should be a TF placeholder, but f is a TF tensor. What is the difference between a placeholder and other tensors in computational graph? And how TF Variable differs from tensors? (0.5 point)\n",
    "\n",
    "##### Answer 1:\n",
    "A placeholder is a tensor in the computational graph that actually takes value externally. A TF Variable is a tensor which can change it's value in the computational graph after some operation, unlike constants. Also, the Variable needs to be initialized and activated, unlike other tensor nodes.\n",
    "\n",
    "\n",
    "2.) What does tf.Session().run(...) accept as an argument and what does it return? What is the fundamental difference between these 2 types of objects? (0.5 point)\n",
    "\n",
    "\n",
    "##### Answer 2:\n",
    "\n",
    "The tf.Session().run(...) accepts the following as arguments:\n",
    "\n",
    "    fetches --> The tensors of the computational graph. Maybe a single one, or a nested list, tuple, dict, namedtuple, OrderedDict containing graph elements as it's leaves.\n",
    "    \n",
    "    feed_dict --> We can pass input values through this dictionary, which are used by nodes in the fetches arg. Default value is None.\n",
    "    \n",
    "    options --> Accepts an optional RunOptions protocol buffer. Default value is None.\n",
    "    \n",
    "    run_metadata --> Accepts an optional RunMetadata protocol buffer. Default value is None.\n",
    "\n",
    "tf.Session().run(...) returns either a single value if \"fetches\" argument is a single graph element, or a list of values if the  \"fetches\" argument is a list, or a dictionary with the same keys as \"fetches\", if \"fetches\" is a dictionary.\n",
    "\n",
    "The fundamental difference is that the fetches argument needs to contain tensors, or computational graph nodes. But the run function actually performs the operation and returns a Python number or list of numbers which are obtained after the calculations according to the computational graph."
   ]
  },
  {
   "cell_type": "markdown",
   "metadata": {},
   "source": [
    "### 2. A pure Python implementation (1 point)\n",
    "Please do the same, but in pure Python, calculating the expression for the derivative by hand. There is no need to use NumPy library, since we deal with 1-dimensional x (0.5 point). "
   ]
  },
  {
   "cell_type": "code",
   "execution_count": 12,
   "metadata": {},
   "outputs": [
    {
     "name": "stdout",
     "output_type": "stream",
     "text": [
      "x: [-10.0, -9.9, -9.8, -9.7, -9.6, -9.5, -9.4, -9.3, -9.2, -9.1, -9.0, -8.9, -8.8, -8.7, -8.6, -8.5, -8.4, -8.3, -8.2, -8.1, -8.0, -7.9, -7.8, -7.7, -7.6, -7.5, -7.4, -7.3, -7.2, -7.1, -7.0, -6.9, -6.8, -6.7, -6.6, -6.5, -6.4, -6.3, -6.2, -6.1, -6.0, -5.9, -5.8, -5.7, -5.6, -5.5, -5.4, -5.3, -5.2, -5.1, -5.0, -4.9, -4.8, -4.7, -4.6, -4.5, -4.4, -4.3, -4.2, -4.1, -4.0, -3.9, -3.8, -3.7, -3.6, -3.5, -3.4, -3.3, -3.2, -3.1, -3.0, -2.9, -2.8, -2.7, -2.6, -2.5, -2.4, -2.3, -2.2, -2.1, -2.0, -1.9, -1.8, -1.7, -1.6, -1.5, -1.4, -1.3, -1.2, -1.1, -1.0, -0.9, -0.8, -0.7, -0.6, -0.5, -0.4, -0.3, -0.2, -0.1, 0.0, 0.1, 0.2, 0.3, 0.4, 0.5, 0.6, 0.7, 0.8, 0.9, 1.0, 1.1, 1.2, 1.3, 1.4, 1.5, 1.6, 1.7, 1.8, 1.9, 2.0, 2.1, 2.2, 2.3, 2.4, 2.5, 2.6, 2.7, 2.8, 2.9, 3.0, 3.1, 3.2, 3.3, 3.4, 3.5, 3.6, 3.7, 3.8, 3.9, 4.0, 4.1, 4.2, 4.3, 4.4, 4.5, 4.6, 4.7, 4.8, 4.9, 5.0, 5.1, 5.2, 5.3, 5.4, 5.5, 5.6, 5.7, 5.8, 5.9, 6.0, 6.1, 6.2, 6.3, 6.4, 6.5, 6.6, 6.7, 6.8, 6.9, 7.0, 7.1, 7.2, 7.3, 7.4, 7.5, 7.6, 7.7, 7.8, 7.9, 8.0, 8.1, 8.2, 8.3, 8.4, 8.5, 8.6, 8.7, 8.8, 8.9, 9.0, 9.1, 9.2, 9.3, 9.4, 9.5, 9.6, 9.7, 9.8, 9.9, 10.0]\n",
      "\n",
      "\n",
      "Function values: [85.0, 83.21000000000001, 81.44000000000003, 79.69, 77.96, 76.25, 74.56000000000002, 72.89000000000001, 71.23999999999998, 69.60999999999999, 68.0, 66.41000000000001, 64.84, 63.289999999999985, 61.75999999999999, 60.25, 58.760000000000005, 57.29000000000001, 55.839999999999996, 54.41, 53.0, 51.61, 50.239999999999995, 48.89000000000001, 47.56, 46.25, 44.96000000000001, 43.69, 42.440000000000005, 41.209999999999994, 40.0, 38.81, 37.63999999999999, 36.49, 35.36, 34.25, 33.16000000000001, 32.089999999999996, 31.040000000000006, 30.009999999999994, 29.0, 28.01, 27.04, 26.090000000000003, 25.159999999999997, 24.25, 23.360000000000003, 22.490000000000002, 21.64, 20.81, 20.0, 19.210000000000004, 18.439999999999998, 17.690000000000005, 16.959999999999997, 16.25, 15.560000000000002, 14.889999999999999, 14.24, 13.61, 13.0, 12.41, 11.84, 11.290000000000001, 10.760000000000002, 10.25, 9.759999999999998, 9.29, 8.840000000000002, 8.41, 8.0, 7.61, 7.239999999999999, 6.890000000000001, 6.5600000000000005, 6.25, 5.96, 5.6899999999999995, 5.44, 5.21, 5.0, 4.8100000000000005, 4.640000000000001, 4.49, 4.36, 4.25, 4.16, 4.09, 4.04, 4.01, 4.0, 4.01, 4.04, 4.09, 4.16, 4.25, 4.36, 4.49, 4.64, 4.81, 5.0, 5.21, 5.44, 5.6899999999999995, 5.96, 6.25, 6.5600000000000005, 6.89, 7.24, 7.61, 8.0, 8.41, 8.84, 9.29, 9.76, 10.25, 10.760000000000002, 11.29, 11.84, 12.41, 13.0, 13.61, 14.240000000000002, 14.889999999999999, 15.559999999999999, 16.25, 16.96, 17.69, 18.439999999999998, 19.21, 20.0, 20.810000000000002, 21.64, 22.49, 23.36, 24.25, 25.16, 26.090000000000003, 27.04, 28.009999999999998, 29.0, 30.009999999999998, 31.04, 32.089999999999996, 33.160000000000004, 34.25, 35.36, 36.49, 37.64, 38.81, 40.0, 41.209999999999994, 42.440000000000005, 43.69, 44.96000000000001, 46.25, 47.559999999999995, 48.89, 50.24, 51.61, 53.0, 54.41, 55.84, 57.29, 58.760000000000005, 60.25, 61.75999999999999, 63.29, 64.84, 66.41000000000001, 68.0, 69.61, 71.24000000000001, 72.89, 74.56, 76.25, 77.96, 79.69000000000001, 81.44, 83.21000000000001, 85.0, 86.81, 88.63999999999999, 90.49000000000001, 92.36, 94.25, 96.16, 98.08999999999997, 100.04000000000002, 102.01, 104.0, 106.00999999999999, 108.03999999999999, 110.09, 112.16000000000001, 114.25, 116.36, 118.48999999999998, 120.64000000000001, 122.81, 125.0]\n",
      "\n",
      "\n",
      "Derivative values: [-18.0, -17.8, -17.6, -17.4, -17.2, -17.0, -16.8, -16.6, -16.4, -16.2, -16.0, -15.8, -15.600000000000001, -15.399999999999999, -15.2, -15.0, -14.8, -14.600000000000001, -14.399999999999999, -14.2, -14.0, -13.8, -13.6, -13.4, -13.2, -13.0, -12.8, -12.6, -12.4, -12.2, -12.0, -11.8, -11.6, -11.4, -11.2, -11.0, -10.8, -10.6, -10.4, -10.2, -10.0, -9.8, -9.6, -9.4, -9.2, -9.0, -8.8, -8.6, -8.4, -8.2, -8.0, -7.800000000000001, -7.6, -7.4, -7.199999999999999, -7.0, -6.800000000000001, -6.6, -6.4, -6.199999999999999, -6.0, -5.8, -5.6, -5.4, -5.2, -5.0, -4.8, -4.6, -4.4, -4.2, -4.0, -3.8, -3.5999999999999996, -3.4000000000000004, -3.2, -3.0, -2.8, -2.5999999999999996, -2.4000000000000004, -2.2, -2.0, -1.7999999999999998, -1.6, -1.4, -1.2000000000000002, -1.0, -0.7999999999999998, -0.6000000000000001, -0.3999999999999999, -0.20000000000000018, 0.0, 0.19999999999999996, 0.3999999999999999, 0.6000000000000001, 0.8, 1.0, 1.2, 1.4, 1.6, 1.8, 2.0, 2.2, 2.4, 2.6, 2.8, 3.0, 3.2, 3.4, 3.6, 3.8, 4.0, 4.2, 4.4, 4.6, 4.8, 5.0, 5.2, 5.4, 5.6, 5.8, 6.0, 6.2, 6.4, 6.6, 6.8, 7.0, 7.2, 7.4, 7.6, 7.8, 8.0, 8.2, 8.4, 8.6, 8.8, 9.0, 9.2, 9.4, 9.6, 9.8, 10.0, 10.2, 10.4, 10.6, 10.8, 11.0, 11.2, 11.4, 11.6, 11.8, 12.0, 12.2, 12.4, 12.6, 12.8, 13.0, 13.2, 13.4, 13.6, 13.8, 14.0, 14.2, 14.4, 14.6, 14.8, 15.0, 15.2, 15.4, 15.6, 15.8, 16.0, 16.2, 16.4, 16.6, 16.8, 17.0, 17.2, 17.4, 17.6, 17.8, 18.0, 18.2, 18.4, 18.6, 18.8, 19.0, 19.2, 19.4, 19.6, 19.8, 20.0, 20.2, 20.4, 20.6, 20.8, 21.0, 21.2, 21.4, 21.6, 21.8, 22.0]\n"
     ]
    },
    {
     "data": {
      "text/plain": [
       "<matplotlib.legend.Legend at 0x7faf44cae908>"
      ]
     },
     "execution_count": 12,
     "metadata": {},
     "output_type": "execute_result"
    },
    {
     "data": {
      "image/png": "[encoded data removed]",
      "text/plain": [
       "<matplotlib.figure.Figure at 0x7faf44cc12e8>"
      ]
     },
     "metadata": {},
     "output_type": "display_data"
    }
   ],
   "source": [
    "# Evaluate the function value and its derivative for values from -10 to 10 with step 0.1\n",
    "x = []\n",
    "for i in range(-100, 101, 1):\n",
    "    x.append(i/10)\n",
    "print(\"x:\",x)\n",
    "# Define f\n",
    "#f = x**2 + 2*x + 5\n",
    "f = []\n",
    "# We generate the list of values for the function\n",
    "for i in x:\n",
    "    f.append(i**2 + 2*i + 5)\n",
    "# Define f_derivative_val\n",
    "# der = 2*x + 2\n",
    "f_derivative_val = []\n",
    "# We generate the list of values for the derivative. Here we need to\n",
    "# calculate the derivative of the function by hand as native Python \n",
    "# has no support for taking the derivative.\n",
    "for i in x:\n",
    "    f_derivative_val.append(2*i+2)\n",
    "\n",
    "print(\"\\n\\nFunction values:\", f)\n",
    "print(\"\\n\\nDerivative values:\", f_derivative_val)\n",
    "# Plot the function f\n",
    "fig, axes = plt.subplots(1, 1)\n",
    "axes.plot(x, f, color='red', ls='-', label='Function')\n",
    "# Plot the derivative of the function f\n",
    "axes.plot(x, f_derivative_val, color='blue', ls='-', label='Derivative')\n",
    "axes.legend(loc='upper left')"
   ]
  },
  {
   "cell_type": "markdown",
   "metadata": {},
   "source": [
    "### 3. A more complicated computational graph (5 points)\n",
    "Okay, you could easily take the derivative of $f(x) = x^2 + 2x + 5$ by hand. But what if you need to take the derivative of the function $f(x) = \\sigma(-6 \\sigma (x + 5 x^{-2} + 3 x^{-3}) + 2 \\sigma (-x + 4 x^{-2}))$ (where $\\sigma = \\frac{1}{1 + exp(-x)}$) with respect to x?\n",
    "It resembles a neural network much more than the previous example.\n",
    "Please, implement it in TensorFlow (0.5 point) and in pure Python (0.5 point) in the same way as before (but using new cells with the code below). \n",
    "\n",
    "Note that in pure Python implementation you will need to somehow overcome the numerical errors for small values of x (roughly from -0.1 to 0.1). You can just skip these values."
   ]
  },
  {
   "cell_type": "markdown",
   "metadata": {},
   "source": [
    "For pure Python implementation you will need to derive the derivative by hand (3 points). Please write down your derivation for the new $f(x)$ (you are encouraged to write LaTeX for them):\n",
    "\n",
    "$\\frac{df}{dx}$ = ...\n",
    "\n",
    "Hint 1: you may want to use a new variable to simplify your derivations, for example setting $a = -6 \\sigma (x + 5 x^{-2} + 3 x^{-3}) + 2 \\sigma (-x + 4 x^{-2})$ can help. Don't worry if the final expression is quite ugly, it is supposed to be so.\n",
    "\n",
    "Hint 2: your derived expression for $\\frac{df}{dx}$ should produce exactly the same values (up to the float type precision) as TensorFlow derivative.\n",
    "\n"
   ]
  },
  {
   "cell_type": "code",
   "execution_count": 13,
   "metadata": {},
   "outputs": [
    {
     "data": {
      "text/html": [
       "<img src=\"https://github.com/jojoayan1992/SaarlandUniversityNeuralNetworks/blob/master/NN_Derivative_1.png?raw=true\"/>"
      ],
      "text/plain": [
       "<IPython.core.display.Image object>"
      ]
     },
     "execution_count": 13,
     "metadata": {},
     "output_type": "execute_result"
    }
   ],
   "source": [
    "from IPython.display import Image\n",
    "Image(url='https://github.com/jojoayan1992/SaarlandUniversityNeuralNetworks/blob/master/NN_Derivative_1.png?raw=true')"
   ]
  },
  {
   "cell_type": "code",
   "execution_count": 14,
   "metadata": {},
   "outputs": [
    {
     "data": {
      "text/html": [
       "<img src=\"https://raw.githubusercontent.com/jojoayan1992/SaarlandUniversityNeuralNetworks/master/NN_Derivative_2.jpg\"/>"
      ],
      "text/plain": [
       "<IPython.core.display.Image object>"
      ]
     },
     "execution_count": 14,
     "metadata": {},
     "output_type": "execute_result"
    }
   ],
   "source": [
    "from IPython.display import Image\n",
    "Image(url='https://raw.githubusercontent.com/jojoayan1992/SaarlandUniversityNeuralNetworks/master/NN_Derivative_2.jpg')"
   ]
  },
  {
   "cell_type": "code",
   "execution_count": 15,
   "metadata": {},
   "outputs": [
    {
     "name": "stdout",
     "output_type": "stream",
     "text": [
      "Function values: [ 0.88075793  0.88075376  0.88074923  0.88074416  0.8807385   0.88073242\n",
      "  0.88072556  0.88071799  0.88070959  0.88070023  0.88069004  0.88067865\n",
      "  0.88066614  0.88065225  0.88063687  0.88061988  0.88060111  0.88058025\n",
      "  0.88055718  0.88053173  0.88050354  0.88047224  0.88043773  0.88039947\n",
      "  0.88035715  0.88031018  0.88025826  0.88020086  0.88013715  0.88006657\n",
      "  0.87998837  0.87990177  0.8798058   0.87969953  0.87958175  0.87945098\n",
      "  0.87930614  0.87914544  0.87896711  0.87876934  0.87854981  0.87830603\n",
      "  0.87803531  0.87773454  0.87740028  0.87702858  0.87661511  0.87615502\n",
      "  0.87564272  0.87507188  0.87443548  0.87372553  0.87293285  0.87204707\n",
      "  0.87105638  0.86994714  0.86870384  0.8673085   0.86574048  0.86397588\n",
      "  0.86198652  0.85973984  0.85719752  0.85431451  0.85103685  0.84730101\n",
      "  0.84303045  0.83813316  0.8324976   0.82598811  0.81843871  0.80964524\n",
      "  0.79935586  0.7872588   0.77296865  0.75600982  0.73580045  0.71164125\n",
      "  0.68271679  0.64812762  0.60698068  0.55857599  0.50272423  0.44018447\n",
      "  0.37309027  0.30507207  0.24073523  0.18447146  0.13916895  0.10564832\n",
      "  0.08319273  0.07101485  0.07160974  0.11051992  0.46852183  0.87370014\n",
      "  0.88079697  0.88079703  0.88079703  0.88079703  0.88079703  0.01798621\n",
      "  0.01798621  0.01798621  0.01798621  0.0179862   0.01798525  0.01796597\n",
      "  0.01783576  0.01738581  0.0163972   0.0148455   0.0129663   0.01109155\n",
      "  0.00945514  0.0081388   0.00712303  0.00634973  0.00575836  0.00529924\n",
      "  0.00493541  0.00464059  0.00439649  0.00419039  0.00401347  0.00385951\n",
      "  0.00372406  0.0036039   0.00349663  0.0034004   0.00331378  0.00323561\n",
      "  0.00316492  0.00310091  0.00304291  0.0029903   0.00294256  0.00289923\n",
      "  0.00285989  0.00282417  0.00279174  0.00276228  0.00273553  0.00271124\n",
      "  0.00268917  0.00266914  0.00265095  0.00263443  0.00261943  0.00260581\n",
      "  0.00259345  0.00258223  0.00257205  0.0025628   0.00255441  0.00254679\n",
      "  0.00253988  0.00253361  0.00252792  0.00252276  0.00251808  0.00251383\n",
      "  0.00250998  0.00250649  0.00250332  0.00250044  0.00249784  0.00249547\n",
      "  0.00249333  0.00249139  0.00248963  0.00248803  0.00248658  0.00248527\n",
      "  0.00248408  0.00248301  0.00248203  0.00248114  0.00248034  0.00247961\n",
      "  0.00247895  0.00247836  0.00247782  0.00247733  0.00247688  0.00247648\n",
      "  0.00247612  0.00247579  0.00247549  0.00247522  0.00247497  0.00247475\n",
      "  0.00247455  0.00247437  0.0024742   0.00247405  0.00247392  0.0024738\n",
      "  0.00247368  0.00247358  0.00247349]\n",
      "Derivative values: [ -3.93431001e-05  -4.35109214e-05  -4.81214374e-05  -5.32217891e-05\n",
      "  -5.88642797e-05  -6.51069204e-05  -7.20136522e-05  -7.96554523e-05\n",
      "  -8.81111628e-05  -9.74678187e-05  -1.07822016e-04  -1.19280790e-04\n",
      "  -1.31962443e-04  -1.45998973e-04  -1.61535543e-04  -1.78734452e-04\n",
      "  -1.97774585e-04  -2.18854446e-04  -2.42195703e-04  -2.68042291e-04\n",
      "  -2.96666840e-04  -3.28370865e-04  -3.63490224e-04  -4.02397505e-04\n",
      "  -4.45507030e-04  -4.93279658e-04  -5.46227966e-04  -6.04922476e-04\n",
      "  -6.69999339e-04  -7.42165023e-04  -8.22209986e-04  -9.11013922e-04\n",
      "  -1.00956007e-03  -1.11894694e-03  -1.24040048e-03  -1.37529522e-03\n",
      "  -1.52516831e-03  -1.69174524e-03  -1.87696423e-03  -2.08299630e-03\n",
      "  -2.31229188e-03  -2.56760907e-03  -2.85206176e-03  -3.16917012e-03\n",
      "  -3.52291437e-03  -3.91782308e-03  -4.35903436e-03  -4.85241041e-03\n",
      "  -5.40464371e-03  -6.02339860e-03  -6.71748491e-03  -7.49704940e-03\n",
      "  -8.37380998e-03  -9.36137419e-03  -1.04755489e-02  -1.17348330e-02\n",
      "  -1.31609216e-02  -1.47793498e-02  -1.66203976e-02  -1.87199991e-02\n",
      "  -2.11211443e-02  -2.38754638e-02  -2.70453095e-02  -3.07063721e-02\n",
      "  -3.49510387e-02  -3.98926847e-02  -4.56712581e-02  -5.24603017e-02\n",
      "  -6.04760088e-02  -6.99888244e-02  -8.13379213e-02  -9.49491262e-02\n",
      "  -1.11356109e-01  -1.31223515e-01  -1.55369431e-01  -1.84776217e-01\n",
      "  -2.20576108e-01  -2.63971180e-01  -3.16031158e-01  -3.77270877e-01\n",
      "  -4.46887970e-01  -5.21597564e-01  -5.94249845e-01  -6.53019905e-01\n",
      "  -6.82728350e-01  -6.69746876e-01  -6.09431505e-01  -5.10926545e-01\n",
      "  -3.93853784e-01  -2.77994454e-01  -1.72852397e-01  -6.82017207e-02\n",
      "   1.06532931e-01   9.40047503e-01   7.57074261e+00   4.53249156e-01\n",
      "   1.34355478e-05   2.29185113e-18              nan              nan\n",
      "              nan   0.00000000e+00   0.00000000e+00  -7.07275251e-19\n",
      "  -9.22174975e-11  -4.26025650e-07  -3.65872875e-05  -4.91885585e-04\n",
      "  -2.47886055e-03  -6.92665065e-03  -1.29003264e-02  -1.77069511e-02\n",
      "  -1.92865618e-02  -1.78115331e-02  -1.47915464e-02  -1.15788523e-02\n",
      "  -8.83916859e-03  -6.72971969e-03  -5.18062897e-03  -4.06301394e-03\n",
      "  -3.25695984e-03  -2.66942754e-03  -2.23353691e-03  -1.90287968e-03\n",
      "  -1.64579542e-03  -1.44082191e-03  -1.27341074e-03  -1.13366498e-03\n",
      "  -1.01479865e-03  -9.12100135e-04  -8.22255039e-04  -7.42881908e-04\n",
      "  -6.72232884e-04  -6.08995440e-04  -5.52154845e-04  -5.00906084e-04\n",
      "  -4.54595662e-04  -4.12679394e-04  -3.74696043e-04  -3.40247236e-04\n",
      "  -3.08986055e-04  -2.80605367e-04  -2.54832208e-04  -2.31422542e-04\n",
      "  -2.10157072e-04  -1.90837673e-04  -1.73285924e-04  -1.57339615e-04\n",
      "  -1.42852150e-04  -1.29690510e-04  -1.17733631e-04  -1.06871790e-04\n",
      "  -9.70052934e-05  -8.80433072e-05  -7.99035624e-05  -7.25111240e-05\n",
      "  -6.57978526e-05  -5.97018006e-05  -5.41665540e-05  -4.91410174e-05\n",
      "  -4.45785554e-05  -4.04368475e-05  -3.66773747e-05  -3.32651362e-05\n",
      "  -3.01683285e-05  -2.73579826e-05  -2.48078177e-05  -2.24939467e-05\n",
      "  -2.03946020e-05  -1.84900491e-05  -1.67623766e-05  -1.51952390e-05\n",
      "  -1.37738252e-05  -1.24846947e-05  -1.13156002e-05  -1.02554550e-05\n",
      "  -9.29416183e-06  -8.42255577e-06  -7.63232310e-06  -6.91590776e-06\n",
      "  -6.26646352e-06  -5.67775851e-06  -5.14414432e-06  -4.66048687e-06\n",
      "  -4.22214089e-06  -3.82487542e-06  -3.46486036e-06  -3.13862256e-06\n",
      "  -2.84300245e-06  -2.57514125e-06  -2.33244009e-06  -2.11254724e-06\n",
      "  -1.91332947e-06  -1.73284764e-06  -1.56934709e-06  -1.42123281e-06\n",
      "  -1.28706472e-06  -1.16553451e-06  -1.05545246e-06  -9.55746827e-07\n",
      "  -8.65438835e-07]\n",
      "Function value for particular x: 1.4154140064261544  is  0.00923105\n",
      "Derivative value for particular x: 1.4154140064261544  is  [-0.0142843]\n"
     ]
    },
    {
     "data": {
      "text/plain": [
       "<matplotlib.legend.Legend at 0x7faf4498b278>"
      ]
     },
     "execution_count": 15,
     "metadata": {},
     "output_type": "execute_result"
    },
    {
     "data": {
      "image/png": "[encoded data removed]",
      "text/plain": [
       "<matplotlib.figure.Figure at 0x7faf44aa7588>"
      ]
     },
     "metadata": {},
     "output_type": "display_data"
    }
   ],
   "source": [
    "# Please paste the code from your above TensorFlow implementation, \n",
    "# but specify the new f(x) and produce the corresponding plots\n",
    "\n",
    "### Define a simple comp. graph (note that all its components are special TensorFlow objects)\n",
    "# Specify an input x to the comp. graph\n",
    "x = tf.placeholder(tf.float32)\n",
    "# We generate all the required nodes for the complicated function.\n",
    "\n",
    "c = 2 * (1 / (1 + tf.exp(-(-x + 4*x**(-2)))))\n",
    "b = -6 * (1 / (1 + tf.exp(-(x + 5*x**(-2) + 3*x**(-3)))))\n",
    "a = b + c\n",
    "\n",
    "# Specify the final function\n",
    "func_x = 1 / (1 + tf.exp(-a))\n",
    "\n",
    "# Take derivative of f with respect to x. That will be very important in the future, since you will only\n",
    "# need to specify forward pass of your neural network, and all derivatives will be determined automatically by \n",
    "# TensorFlow.\n",
    "# The TensorFlow node that corresponds to the derivative\n",
    "derivative = tf.gradients(func_x, x)\n",
    "\n",
    "### Execute the comp. graph\n",
    "# Create a TensorFlow session\n",
    "sess = tf.Session()\n",
    "\n",
    "# Evaluate the function value and its derivative for values from -10 to 10 with step 0.1\n",
    "x_range = np.arange(-10.0,10.1,0.1)\n",
    "# Calling the run() function to calculate the values of the function\n",
    "y_fn = sess.run(func_x, {x:x_range})\n",
    "print(\"Function values:\", y_fn)\n",
    "# Calling the run() function to calculate the derivative values of the function\n",
    "y_deriv = sess.run(derivative, {x:x_range})\n",
    "print(\"Derivative values:\", y_deriv[0])\n",
    "# Evaluate values of f and its derivative based on a particular input x\n",
    "x_rand = np.asscalar(10 * np.random.rand(1))\n",
    "#x_rand = 0\n",
    "y_r = sess.run(func_x, {x:x_rand})\n",
    "print(\"Function value for particular x:\",x_rand,\" is \", y_r)\n",
    "der_r = sess.run(derivative, {x:x_rand})\n",
    "print(\"Derivative value for particular x:\",x_rand,\" is \", der_r)\n",
    "# Plot the function f (use matplotlib library)\n",
    "fig, axes = plt.subplots(1, 1)\n",
    "\n",
    "axes.plot(x_range, y_fn, color='red', ls='-', label='Function')\n",
    "\n",
    "axes.scatter(x_rand, y_r, color = 'blue', marker='.', alpha=.6, s=2e2)\n",
    "\n",
    "# Plot the derivative of the function f\n",
    "axes.plot(x_range, y_deriv[0], color='blue', ls='-', label='Derivative')\n",
    "\n",
    "axes.scatter(x_rand, der_r, color='green', marker='.', alpha=.6, s=2e2)\n",
    "\n",
    "axes.legend(loc='upper left')"
   ]
  },
  {
   "cell_type": "code",
   "execution_count": 16,
   "metadata": {},
   "outputs": [
    {
     "name": "stdout",
     "output_type": "stream",
     "text": [
      "x: [-10.0, -9.9, -9.8, -9.7, -9.6, -9.5, -9.4, -9.3, -9.2, -9.1, -9.0, -8.9, -8.8, -8.7, -8.6, -8.5, -8.4, -8.3, -8.2, -8.1, -8.0, -7.9, -7.8, -7.7, -7.6, -7.5, -7.4, -7.3, -7.2, -7.1, -7.0, -6.9, -6.8, -6.7, -6.6, -6.5, -6.4, -6.3, -6.2, -6.1, -6.0, -5.9, -5.8, -5.7, -5.6, -5.5, -5.4, -5.3, -5.2, -5.1, -5.0, -4.9, -4.8, -4.7, -4.6, -4.5, -4.4, -4.3, -4.2, -4.1, -4.0, -3.9, -3.8, -3.7, -3.6, -3.5, -3.4, -3.3, -3.2, -3.1, -3.0, -2.9, -2.8, -2.7, -2.6, -2.5, -2.4, -2.3, -2.2, -2.1, -2.0, -1.9, -1.8, -1.7, -1.6, -1.5, -1.4, -1.3, -1.2, -1.1, -1.0, -0.9, -0.8, -0.7, -0.6, -0.5, -0.4, -0.3, -0.2, 0.2, 0.3, 0.4, 0.5, 0.6, 0.7, 0.8, 0.9, 1.0, 1.1, 1.2, 1.3, 1.4, 1.5, 1.6, 1.7, 1.8, 1.9, 2.0, 2.1, 2.2, 2.3, 2.4, 2.5, 2.6, 2.7, 2.8, 2.9, 3.0, 3.1, 3.2, 3.3, 3.4, 3.5, 3.6, 3.7, 3.8, 3.9, 4.0, 4.1, 4.2, 4.3, 4.4, 4.5, 4.6, 4.7, 4.8, 4.9, 5.0, 5.1, 5.2, 5.3, 5.4, 5.5, 5.6, 5.7, 5.8, 5.9, 6.0, 6.1, 6.2, 6.3, 6.4, 6.5, 6.6, 6.7, 6.8, 6.9, 7.0, 7.1, 7.2, 7.3, 7.4, 7.5, 7.6, 7.7, 7.8, 7.9, 8.0, 8.1, 8.2, 8.3, 8.4, 8.5, 8.6, 8.7, 8.8, 8.9, 9.0, 9.1, 9.2, 9.3, 9.4, 9.5, 9.6, 9.7, 9.8, 9.9, 10.0]\n",
      "\n",
      "\n",
      "Function values: [0.8807579381482766, 0.8807537989518919, 0.8807492212139241, 0.8807441583461811, 0.8807385587909935, 0.8807323654877521, 0.8807255152815918, 0.8807179382678414, 0.8807095570651389, 0.8807002860092993, 0.8806900302591159, 0.8806786848042641, 0.8806661333643373, 0.8806522471667644, 0.8806368835899276, 0.8806198846561776, 0.8806010753576297, 0.8805802617955619, 0.8805572291119309, 0.8805317391888806, 0.8805035280891612, 0.8804723032069919, 0.8804377400950665, 0.8803994789290318, 0.8803571205657763, 0.880310222146156, 0.8802582921862467, 0.8802007850936796, 0.8801370950369592, 0.8800665490856455, 0.8799883995276927, 0.8799018152567617, 0.8798058721066457, 0.8796995419916016, 0.8795816806899096, 0.8794510140826985, 0.8793061226302776, 0.8791454238329091, 0.8789671523810315, 0.8787693376499447, 0.8785497781341391, 0.8783060123445873, 0.8780352856056683, 0.8777345120835203, 0.8774002312501741, 0.877028557832357, 0.876615124103413, 0.8761550131425818, 0.8756426813966144, 0.8750718685199897, 0.8744354920232331, 0.8737255237000572, 0.872932844102151, 0.8720470704449602, 0.8710563522058816, 0.8699471272487012, 0.868703829483813, 0.8673085367329262, 0.865740544451393, 0.8639758470621296, 0.8619865035968081, 0.859739857760076, 0.8571975739571072, 0.8543144396408185, 0.851036869764479, 0.84730103021128, 0.8430304727036556, 0.8381331427235844, 0.8324975835369192, 0.8259881136809165, 0.8184387050709168, 0.8096452430313994, 0.7993558295239722, 0.7872588435495044, 0.7729686942618323, 0.756009779666189, 0.7358004407153218, 0.7116412629084365, 0.6827167995161021, 0.6481276323901923, 0.6069806761663059, 0.5585759459442734, 0.5027242600814802, 0.4401844652045386, 0.37309028853137716, 0.3050720864466103, 0.24073525466184417, 0.18447149337323082, 0.13916893802611882, 0.10564829751820498, 0.08319274051439571, 0.07101488024152153, 0.07160975879241832, 0.11051987459366085, 0.46852204452868823, 0.8737001290806273, 0.8807970088334393, 0.8807970779778823, 0.8807970779778823, 0.01798620996209156, 0.01798620996209156, 0.01798620996135967, 0.017986203407847436, 0.017985248025519786, 0.01796596409059567, 0.01783576658134051, 0.01738581216024441, 0.016397203057575492, 0.014845502017728603, 0.012966299736527787, 0.011091547242945775, 0.009455141273267888, 0.008138804992347816, 0.007123035053010887, 0.006349729708973151, 0.005758360529984092, 0.005299237823498294, 0.0049354045294663675, 0.004640591528212352, 0.0043964870338769335, 0.004190392652949768, 0.004013469847087988, 0.003859504070895764, 0.003724058562474131, 0.003603903232132026, 0.00349663185334977, 0.0034004061027671194, 0.00331378433197195, 0.0032356066910807007, 0.0031649176575468375, 0.0031009133876253735, 0.0030429055590504217, 0.0029902961969530497, 0.0029425598438127952, 0.002899230668475928, 0.0028598929233829284, 0.0028241736957595265, 0.002791737252142769, 0.0027622805086854694, 0.0027355293134014706, 0.0027112353280190015, 0.0026891733642633244, 0.002669139073943695, 0.0026509469218997336, 0.0026344283907473605, 0.002619430379791281, 0.002605813769633229, 0.0025934521303423077, 0.0025822305555140796, 0.0025720446077492866, 0.0025627993634424725, 0.002554408546553674, 0.0025467937424222867, 0.0025398836837882788, 0.0025336136020918647, 0.002527924637880653, 0.0025227633047998645, 0.002518081002200473, 0.0025138335718902236, 0.0025099808949854666, 0.002506486525206784, 0.0025033173553059397, 0.0025004433136207086, 0.0024978370880323468, 0.0024954738748513183, 0.002493331150383623, 0.0024913884631349824, 0.002489627244795827, 0.0024880306383181796, 0.0024865833415481406, 0.0024852714650160867, 0.002484082402612421, 0.0024830047139908253, 0.0024820280176449405, 0.0024811428936986285, 0.0024803407955358257, 0.002479613969474287, 0.0024789553817584037, 0.002478358652211258, 0.002477817993944792, 0.0024773281585809344, 0.0024768843864852513, 0.00247648236155936, 0.0024761181701789415, 0.002475788263901234, 0.00247548942559954, 0.0024752187387130707, 0.0024749735593284894, 0.0024747514908349372, 0.0024745503609176645, 0.0024743682006765724, 0.002474203225675165, 0.002474053818743181, 0.0024739185143719577, 0.002473795984556414, 0.002473685025950537, 0.0024735845482156305, 0.0024734935634513665]\n",
      "\n",
      "\n",
      "Derivative values: [-3.93431050203554e-05, -4.351091715649972e-05, -4.8121409081827294e-05, -5.3221786453659646e-05, -5.8864319913038854e-05, -6.510689393147622e-05, -7.201361610045657e-05, -7.965549370025935e-05, -8.811118519236699e-05, -9.746783518957319e-05, -0.00010782200248409566, -0.00011928069187297301, -0.00013196250183088637, -0.00014599890156543656, -0.00016153565267469899, -0.00017873439254174856, -0.0001977743987812031, -0.0002188545565402459, -0.00024219555330003942, -0.0002680423290808135, -0.0002966668136938075, -0.0003283709869870939, -0.00036349030299734505, -0.00040239752466178605, -0.0004455070224031984, -0.0004932795976431143, -0.0005462279013261767, -0.0006049225280959954, -0.0006699988791459379, -0.0007421649013373678, -0.0008222098273727953, -0.0009110140621705857, -0.0010095603847726207, -0.0011189466639411247, -0.0012404003200723478, -0.0013752948074207882, -0.0015251684404398382, -0.0016917459482391794, -0.0018769632141594857, -0.002082995746314391, -0.0023122915334840934, -0.002567609073814272, -0.002852061527533109, -0.003169168147185835, -0.003522914389718254, -0.003917822426967497, -0.0043590341612852355, -0.004852409342504473, -0.005404641998997634, -0.00602339917526186, -0.006717486958474367, -0.007497050038627143, -0.008373812662522148, -0.009361370918410812, -0.010475548967371856, -0.011734835307829952, -0.013160919670697971, -0.014779357026010687, -0.016620392877036882, -0.01871999410495663, -0.02112114286700716, -0.023875468428678107, -0.02704531457559219, -0.030706369932766927, -0.03495102687353501, -0.0398926834878614, -0.045671263478051075, -0.05246030010010904, -0.06047600676238832, -0.06998882215780008, -0.08133793245761543, -0.09494915130088113, -0.11135610308720535, -0.1312235565146104, -0.1553693297040873, -0.18477624096998932, -0.22057612813251962, -0.2639711888652071, -0.3160312064564267, -0.3772707605017972, -0.4468879078837591, -0.5215976599385767, -0.5942498377408909, -0.6530198404800437, -0.6827284008668623, -0.6697469873547507, -0.6094315585359125, -0.510926617462624, -0.3938538549678954, -0.2779944591200201, -0.1728523156152361, -0.06820179311288922, 0.10653291870237973, 0.9400475714980763, 7.570743028020154, 0.4532490452364573, 1.3435494080087132e-05, 2.2921034793763153e-18, 6.389268862777802e-42, -1.606689755267329e-42, -7.072746799903634e-19, -9.221753967186966e-11, -4.2602571263921296e-07, -3.6587256276774915e-05, -0.0004918855624222246, -0.0024788609130040246, -0.006926650697350296, -0.012900327696993064, -0.0177069508004908, -0.019286565180320736, -0.017811524356052908, -0.014791548100054916, -0.011578858194635092, -0.008839171304858544, -0.006729718528746401, -0.005180626403652677, -0.004063013718696788, -0.003256958353024656, -0.0026694278735060347, -0.0022335362074867725, -0.0019028795907908259, -0.00164579582868147, -0.0014408211624823842, -0.0012734101244054785, -0.0011336651801444237, -0.001014798388492634, -0.0009121006635961029, -0.000822255214982498, -0.0007428815585188399, -0.0006722329529749057, -0.0006089955377547604, -0.0005521547424953457, -0.0005009061502993302, -0.00045459573169720724, -0.0004126794957226637, -0.0003746959956760103, -0.000340247364885948, -0.00030898603249221766, -0.000280605240309361, -0.00025483212087600704, -0.00023142251723061287, -0.00021015700154943938, -0.0001908377317810807, -0.00017328590522400634, -0.00015733964693677487, -0.0001428522229595621, -0.0001296905027707668, -0.00011773361825425543, -0.00010687178168486418, -9.70052354605089e-05, -8.804331323051371e-05, -7.990359681439184e-05, -7.251115660980746e-05, -6.579786553565973e-05, -5.970177826295981e-05, -5.416656876024978e-05, -4.914102015842971e-05, -4.4578561712078387e-05, -4.043684826031503e-05, -3.667737810972089e-05, -3.326514570158799e-05, -3.016832580407826e-05, -2.735798629947129e-05, -2.4807826926605033e-05, -2.2493941595487852e-05, -2.039460211987256e-05, -1.849006141819928e-05, -1.676237441684327e-05, -1.5195235054579864e-05, -1.37738279357454e-05, -1.2484693313546501e-05, -1.131560420593302e-05, -1.0255454555776489e-05, -9.294157446001284e-06, -8.422552469866904e-06, -7.632321437750162e-06, -6.915911675367691e-06, -6.266466235163781e-06, -5.6777604032358645e-06, -5.144143939278773e-06, -4.660488537133601e-06, -4.222140039104246e-06, -3.8248749786858045e-06, -3.464861064115186e-06, -3.138621249552957e-06, -2.8430010720455215e-06, -2.5751389609784175e-06, -2.3324392527668456e-06, -2.1125476672657823e-06, -1.913329024025383e-06, -1.7328469962541139e-06, -1.5693457183510966e-06, -1.4212330792839499e-06, -1.2870655490582803e-06, -1.165534399176537e-06, -1.055453190432741e-06, -9.55746412740573e-07, -8.654391720413029e-07]\n"
     ]
    },
    {
     "data": {
      "text/plain": [
       "<matplotlib.legend.Legend at 0x7faf4487d2b0>"
      ]
     },
     "execution_count": 16,
     "metadata": {},
     "output_type": "execute_result"
    },
    {
     "data": {
      "image/png": "[encoded data removed]",
      "text/plain": [
       "<matplotlib.figure.Figure at 0x7faf449edcc0>"
      ]
     },
     "metadata": {},
     "output_type": "display_data"
    }
   ],
   "source": [
    "# Please paste the code from your above pure Python implementation, \n",
    "# but specify the new f(x) and its derivative that you calculated manually and produce the corresponding plots\n",
    "\n",
    "# We create a new function that helps define the function given above. \n",
    "# In: The value of x for the function\n",
    "# Out: The calculated value of the function for the given x.\n",
    "def calc_func(x):\n",
    "    c = 2 * 1 / (1 + math.exp(-(-x + 4*x**(-2))))\n",
    "    b = -6 * 1 / (1 + math.exp(-(x + 5*x**(-2) + 3*x**(-3))))\n",
    "    return (1 / (1 + math.exp(-(b + c))))\n",
    "\n",
    "# We create another new function that helps define the derivative of the given function.\n",
    "# In: The value of the point x (j) and the value of the function f(x) at x=j, which is val.\n",
    "# Out: The calculated value of the derivative of the function at the point x=j.\n",
    "def calc_derivative(j, val):\n",
    "    b = 1 / (1 + math.exp(-j - 5*j**(-2) - 3*j**(-3)))\n",
    "    c = 1 / (1 + math.exp(j - 4*j**(-2)))\n",
    "    der1 = math.exp(6*b - 2*c) * val**2\n",
    "    p = 6 * (math.exp(-j-5*j**(-2)-3*j**(-3)) * (-1 + 10*j**(-3) + 9*j**(-4))) * b**2\n",
    "    q = 2 * (math.exp(j - 4*j**(-2)) * (1 + 8*j**(-3))) * c**2\n",
    "    der2 = p - q\n",
    "    return (der1 * der2)\n",
    "\n",
    "# Import required library for mathematical functions.\n",
    "import math\n",
    "# Evaluate the function value and its derivative for values from -10 to 10 with step 0.1\n",
    "x = []\n",
    "# We generate the list of numbers here, but leave out the smaller x values from -0.1 to 0.1 so as to avoid numerical errors\n",
    "for i in range(-100, 101, 1):\n",
    "    if i/10 < (-0.1) or i/10 > (0.1):\n",
    "        x.append(i/10)\n",
    "print(\"x:\",x)\n",
    "\n",
    "# Initialize a list and push all values of the function here\n",
    "# Calculate the function values for the range of x values\n",
    "\n",
    "f = []\n",
    "for i in x:\n",
    "    # Call our defined function that will return f(x) at x=i.\n",
    "    f_out = calc_func(i)\n",
    "    f.append(f_out)\n",
    "    \n",
    "# Initialize a list to collect all the derivative values\n",
    "# Calculate the derivative values for the range of x values\n",
    "f_derivative_val = []\n",
    "for i in range(len(x)):\n",
    "    j = x[i]\n",
    "    val = f[i]\n",
    "    # Call our defined function that will return derivative of f(x) at x=j.\n",
    "    out = calc_derivative(j, val)\n",
    "    f_derivative_val.append(out)\n",
    "\n",
    "# We simply print the function and derivative values for the whole range of x values    \n",
    "print(\"\\n\\nFunction values:\", f)\n",
    "print(\"\\n\\nDerivative values:\", f_derivative_val)\n",
    "\n",
    "# Plot the function f\n",
    "fig, axes = plt.subplots(1, 1)\n",
    "\n",
    "axes.plot(x, f, color='red', ls='-', label='Function')\n",
    "# Plot the derivative of the function f\n",
    "axes.plot(x, f_derivative_val, color='blue', ls='-', label='Derivative')\n",
    "axes.legend(loc='upper left')"
   ]
  },
  {
   "cell_type": "markdown",
   "metadata": {},
   "source": [
    "#### Questions (1 point)\n",
    "1.) What is the main difference in the program structure between TensorFlow and plain Python? (0.5 point)\n",
    "\n",
    "\n",
    "##### Answer 1:\n",
    "The main difference in the program structure between TensorFlow and plain Python is that in TensorFlow, we build a computational graph, and one of the nodes in that graph is actually the gradient operator. So when we call tf.Session().run(...), TensorFlow itself calculates the derivative of the function or us. But in plain Python, we have no such implicit function. Hence, we are forced to calculate the derivative function with respect to x ourselves, and then build a proper Python expression for the same.\n",
    "In TensorFlow, we use an object oriented and computational graph model, with automatic calculations. In Python, we have implemented it in a procedural approach which included calculating the derivative with respect to x by ourselves, and writing a function corresponding to it.\n",
    "\n",
    "2.) Does TensorFlow provide numerical or automatic differentiation? What are advantages of this way of differentiation? (0.5 point)\n",
    "\n",
    "\n",
    "##### Answer 2:\n",
    "TensorFlow uses what is called the reverse mode automatic differentiation. The advantage of using automatic differentiation is the fact that after we write a function by stacking a series of operators, TensorFlow itself understands how the corresponding derivatives should be computed by using computation graphs and chain rule.\n",
    "Hence, we no longer need to calculate it ourselves, we do not get approximation errors, and the accuracy of our answer can only be affected by some floating point errors. Automatic differentiation also calculates the exact derivative."
   ]
  },
  {
   "cell_type": "markdown",
   "metadata": {},
   "source": [
    "**Points**: 9.0 of 9.0\n",
    "**Comments**\n",
    "- None"
   ]
  },
  {
   "cell_type": "markdown",
   "metadata": {},
   "source": [
    "## Grading: 18.0 of 20.0 points. Well done!"
   ]
  },
  {
   "cell_type": "markdown",
   "metadata": {},
   "source": [
    "## Submission instructions\n",
    "You should provide a single Jupyter notebook as a solution. The naming should include the assignment number and matriculation IDs of all team members in the following format:\n",
    "**assignment-1_matriculation1_matriculation_2_matriculation3.ipynb** (in case of 3 team members). \n",
    "Make sure to keep the order matriculation1_matriculation_2_matriculation3 the same for all assignments.\n",
    "\n",
    "Please, submit your solution to your tutor (with **[NNIA][assignment-2]** in email subject):\n",
    "1. Maksym Andriushchenko s8mmandr@stud.uni-saarland.de\n",
    "2. Marius Mosbach s9msmosb@stud.uni-saarland.de\n",
    "3. Rajarshi Biswas rbisw17@gmail.com\n",
    "4. Marimuthu Kalimuthu s8makali@stud.uni-saarland.de\n",
    "\n",
    "**If you are in a team, please submit only 1 solution to only 1 tutor.**"
   ]
  }
 ],
 "metadata": {
  "kernelspec": {
   "display_name": "Python 3",
   "language": "python",
   "name": "python3"
  },
  "language_info": {
   "codemirror_mode": {
    "name": "ipython",
    "version": 3
   },
   "file_extension": ".py",
   "mimetype": "text/x-python",
   "name": "python",
   "nbconvert_exporter": "python",
   "pygments_lexer": "ipython3",
   "version": "3.6.2"
  }
 },
 "nbformat": 4,
 "nbformat_minor": 2
}
