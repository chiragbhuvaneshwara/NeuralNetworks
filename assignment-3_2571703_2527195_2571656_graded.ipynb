{
 "cells": [
  {
   "cell_type": "markdown",
   "metadata": {},
   "source": [
    "# Assignment sheet 3: Numerical Computation and Prinicipal Component Analysis (Deadline: Nov 24, 23:59)"
   ]
  },
  {
   "cell_type": "markdown",
   "metadata": {},
   "source": [
    "### Computational Issues with Softmax $~$ (3 points)"
   ]
  },
  {
   "cell_type": "markdown",
   "metadata": {},
   "source": [
    "In the lecture you were introduced to the softmax function which is used to generate probabilities corresponding to the output labels. Typically, the input to the softmax function is a vector of numerical values over the labels and the output is a vector(of same dimension as the input vector) of corresponding probabilities.\n",
    "**Softmax function is given by,** $~$\n",
    "$$Softmax(x)_i = \\frac{exp(x_i)}{\\sum_{j=1}^n exp(x_j)}$$\n",
    "\n",
    "**Numerical issues might occur when computing softmax functions on a computer which can perform computations\n",
    "only upto a certain precision.** [Suggested reading $-$ [chapter 4.1 of DeepLearningBook](http://www.deeplearningbook.org/contents/numerical.html)]"
   ]
  },
  {
   "cell_type": "markdown",
   "metadata": {},
   "source": [
    "$1$. Name the numerical these numerical issues and explain them. ($1$ points)\n",
    "\n",
    "$2$. Suggest a remedy(with explanation on why it works) to overcome these numerical issues occuring with Softmax computation. Prove that this remedy actually does not change the softmax criteria. Describe a situation where the proposed remedy still fails to remove instability. ($1$ point)\n",
    "\n",
    "$3$. First write a naive Softmax implementation, in numpy, that can produce numerical instability. Then write a modified Softmax implementation which is numerically stable.  ($0.5 + 0.5 = 1$ points)"
   ]
  },
  {
   "cell_type": "code",
   "execution_count": 1,
   "metadata": {},
   "outputs": [
    {
     "data": {
      "text/html": [
       "<img src=\"https://github.com/jojoayan1992/SaarlandUniversityNeuralNetworks/blob/master/Softmax.jpeg?raw=true\"/>"
      ],
      "text/plain": [
       "<IPython.core.display.Image object>"
      ]
     },
     "execution_count": 1,
     "metadata": {},
     "output_type": "execute_result"
    }
   ],
   "source": [
    "from IPython.display import Image\n",
    "Image(url='https://github.com/jojoayan1992/SaarlandUniversityNeuralNetworks/blob/master/Softmax.jpeg?raw=true')"
   ]
  },
  {
   "cell_type": "code",
   "execution_count": 2,
   "metadata": {},
   "outputs": [
    {
     "name": "stdout",
     "output_type": "stream",
     "text": [
      "Inputs_1: [ 20 -58 -25  -2  -8  62   1  22 -50  18 -13 -55   7  47 -29 -57 -18  22\n",
      " -30  16 -36  23  -7   8  26  54 -34  23  19 -17 -29  60   3  59   5  46\n",
      " -27 -35 -28  15  -3 -23 -63 -31 -20  18   0 -39  43  10]\n",
      "Naive Softmax: [  4.85004202e-19   6.46808789e-53   1.38833354e-38   1.35290375e-28\n",
      "   3.35351310e-31   8.43555654e-01   2.71737981e-27   3.58372325e-18\n",
      "   1.92810983e-49   6.56381810e-20   2.25957936e-33   1.29915018e-51\n",
      "   1.09626926e-24   2.58045632e-07   2.54282158e-40   1.75820858e-52\n",
      "   1.52249259e-35   3.58372325e-18   9.35451780e-41   8.88316182e-21\n",
      "   2.31875314e-43   9.74156980e-18   9.11579373e-31   2.97996881e-24\n",
      "   1.95664660e-16   2.82981397e-04   1.71333970e-42   9.74156980e-18\n",
      "   1.78423075e-19   4.13856395e-35   2.54282158e-40   1.14162843e-01\n",
      "   2.00788719e-26   4.19981630e-02   1.48363911e-25   9.49296830e-08\n",
      "   1.87890513e-39   6.30302452e-43   6.91210568e-40   3.26793260e-21\n",
      "   4.97705474e-29   1.02584744e-37   4.35816334e-55   3.44133478e-41\n",
      "   2.06046966e-36   6.56381810e-20   9.99668167e-28   1.15443921e-44\n",
      "   4.72627062e-09   2.20191567e-23]\n",
      "Modified Softmax: [  4.85004202e-19   6.46808789e-53   1.38833354e-38   1.35290375e-28\n",
      "   3.35351310e-31   8.43555654e-01   2.71737981e-27   3.58372325e-18\n",
      "   1.92810983e-49   6.56381810e-20   2.25957936e-33   1.29915018e-51\n",
      "   1.09626926e-24   2.58045632e-07   2.54282158e-40   1.75820858e-52\n",
      "   1.52249259e-35   3.58372325e-18   9.35451780e-41   8.88316182e-21\n",
      "   2.31875314e-43   9.74156980e-18   9.11579373e-31   2.97996881e-24\n",
      "   1.95664660e-16   2.82981397e-04   1.71333970e-42   9.74156980e-18\n",
      "   1.78423075e-19   4.13856395e-35   2.54282158e-40   1.14162843e-01\n",
      "   2.00788719e-26   4.19981630e-02   1.48363911e-25   9.49296830e-08\n",
      "   1.87890513e-39   6.30302452e-43   6.91210568e-40   3.26793260e-21\n",
      "   4.97705474e-29   1.02584744e-37   4.35816334e-55   3.44133478e-41\n",
      "   2.06046966e-36   6.56381810e-20   9.99668167e-28   1.15443921e-44\n",
      "   4.72627062e-09   2.20191567e-23]\n",
      "Inputs_2: [  90 -236  260  406  644 -248 -490 -979 -932 -123  -69 -519 -795  802   87\n",
      " -303  780 -926 -342  423 -903   92 -665 -522  352 -993 -606 -421 -703 -720\n",
      " -432  620  730 -141 -628 -709  800  -13 -650  736  491  946 -275  517  525\n",
      "  725  315 -106  605  369]\n",
      "Naive Softmax: [  0.   0.   0.   0.   0.   0.   0.   0.   0.   0.   0.   0.   0.  nan   0.\n",
      "   0.  nan   0.   0.   0.   0.   0.   0.   0.   0.   0.   0.   0.   0.   0.\n",
      "   0.   0.  nan   0.   0.   0.  nan   0.   0.  nan   0.  nan   0.   0.   0.\n",
      "  nan   0.   0.   0.   0.]\n",
      "Modified Softmax: [  0.00000000e+000   0.00000000e+000   1.18572893e-298   3.02677245e-235\n",
      "   6.96733135e-132   0.00000000e+000   0.00000000e+000   0.00000000e+000\n",
      "   0.00000000e+000   0.00000000e+000   0.00000000e+000   0.00000000e+000\n",
      "   0.00000000e+000   2.89464031e-063   0.00000000e+000   0.00000000e+000\n",
      "   8.07450679e-073   0.00000000e+000   0.00000000e+000   7.31115455e-228\n",
      "   0.00000000e+000   0.00000000e+000   0.00000000e+000   0.00000000e+000\n",
      "   1.06924628e-258   0.00000000e+000   0.00000000e+000   0.00000000e+000\n",
      "   0.00000000e+000   0.00000000e+000   0.00000000e+000   2.63026133e-142\n",
      "   1.55737037e-094   0.00000000e+000   0.00000000e+000   0.00000000e+000\n",
      "   3.91746966e-064   0.00000000e+000   0.00000000e+000   6.28288051e-092\n",
      "   2.48891883e-198   1.00000000e+000   0.00000000e+000   4.87155111e-187\n",
      "   1.45218892e-183   1.04934790e-096   9.12392946e-275   0.00000000e+000\n",
      "   8.04603043e-149   2.58275935e-251]\n"
     ]
    },
    {
     "name": "stderr",
     "output_type": "stream",
     "text": [
      "/Users/mariusmosbach/miniconda3/envs/nnia/lib/python3.6/site-packages/ipykernel_launcher.py:14: RuntimeWarning: overflow encountered in exp\n",
      "  \n",
      "/Users/mariusmosbach/miniconda3/envs/nnia/lib/python3.6/site-packages/ipykernel_launcher.py:17: RuntimeWarning: overflow encountered in exp\n",
      "/Users/mariusmosbach/miniconda3/envs/nnia/lib/python3.6/site-packages/ipykernel_launcher.py:18: RuntimeWarning: invalid value encountered in double_scalars\n"
     ]
    }
   ],
   "source": [
    "import numpy as np\n",
    "\n",
    "# TODO : Define inputs\n",
    "\n",
    "# Change the range of the inputs to witness overflow and underflow\n",
    "# Showing softmax with two input ranges, one will have correct estimate, other will cause overflow and underflow.\n",
    "inputs_1 = np.random.randint(-2**6,2**6,50)\n",
    "inputs_2 = np.random.randint(-2**10,2**10,50)\n",
    "\n",
    "def softmax_naive(inputs):\n",
    "    \"\"\"Unstable Softmax function\"\"\"\n",
    "    \n",
    "    # TODO : Implement\n",
    "    denom = np.sum(np.exp(inputs))\n",
    "    sm_out = np.array([])\n",
    "    for i in inputs:\n",
    "        num = np.exp(i)\n",
    "        val = num / denom\n",
    "        sm_out = np.append(sm_out,val)\n",
    "    return sm_out\n",
    "    pass\n",
    "\n",
    "\n",
    "def softmax_modified(inputs):\n",
    "    \"\"\"Stable Softmax function\"\"\"\n",
    "    \n",
    "    # TODO : Implement\n",
    "    max_elem = np.amax(inputs)\n",
    "    # Normalizing\n",
    "    mod_inputs = inputs - max_elem\n",
    "    denom = np.sum(np.exp(mod_inputs))\n",
    "    sm_out = np.array([])\n",
    "    for z in mod_inputs:\n",
    "        num = np.exp(z)\n",
    "        val = num/denom\n",
    "        sm_out = np.append(sm_out, val)\n",
    "    return sm_out\n",
    "    pass\n",
    "# Calling the softmax functions\n",
    "print(\"Inputs_1:\",inputs_1)\n",
    "print(\"Naive Softmax:\",softmax_naive(inputs_1))\n",
    "print(\"Modified Softmax:\",softmax_modified(inputs_1))\n",
    "\n",
    "print(\"Inputs_2:\",inputs_2)\n",
    "print(\"Naive Softmax:\",softmax_naive(inputs_2))\n",
    "print(\"Modified Softmax:\",softmax_modified(inputs_2))"
   ]
  },
  {
   "cell_type": "markdown",
   "metadata": {},
   "source": [
    "**Points**: 3.0 of 3.0\n",
    "**Comments**\n",
    "- None"
   ]
  },
  {
   "cell_type": "markdown",
   "metadata": {},
   "source": [
    "### Principal Component Analysis $~$ (7 points)"
   ]
  },
  {
   "cell_type": "markdown",
   "metadata": {},
   "source": [
    "$4$. Is PCA supervised or unsupervised, logically explain your answer. Which is the tunable parameter in PCA?\n",
    "Briefly explain the role of this parameter in PCA.  ($1+0.5+0.5 = 2$ points)\n",
    "\n",
    "$5.a$. Consider the following data:\n",
    "\n",
    "setA: ${\\bf x}^{(1)}$=$(2, 4)^T$, ${\\bf x}^{(2)}$=$(2, 2)^T$, ${\\bf x}^{(3)}$=$(3, 1)^T$, ${\\bf x}^{(4)}$=$(5, 1)^T$ \n",
    "\n",
    "setB: ${\\bf x}^{(1)}$=$(-1, 1)^T$, ${\\bf x}^{(2)}$=$(-2, 2)^T$, ${\\bf x}^{(3)}$=$(-1, 3)^T$, ${\\bf x}^{(4)}$=$(-1, 4)^T$\n",
    "\n",
    "Compress the above sets of vectors into a one-dimensional set using PCA, i.e., derive the encoder function $f(x)=D^{T}.x$ as defined in the lecture. Then apply f to the datasets inorder to compress them. ($1.5 + 1.5$ points)\n",
    "\n",
    "$5.b$. For both the above sets sketch the corresponding datasets in a separate figure. Also include the reconstructed vectors into the corresponding figures.                                                             ($2$ points)"
   ]
  },
  {
   "cell_type": "code",
   "execution_count": 3,
   "metadata": {},
   "outputs": [
    {
     "data": {
      "text/html": [
       "<img src=\"https://github.com/jojoayan1992/SaarlandUniversityNeuralNetworks/blob/master/PCA1.jpeg?raw=true\"/>"
      ],
      "text/plain": [
       "<IPython.core.display.Image object>"
      ]
     },
     "execution_count": 3,
     "metadata": {},
     "output_type": "execute_result"
    }
   ],
   "source": [
    "Image(url='https://github.com/jojoayan1992/SaarlandUniversityNeuralNetworks/blob/master/PCA1.jpeg?raw=true')"
   ]
  },
  {
   "cell_type": "code",
   "execution_count": 4,
   "metadata": {},
   "outputs": [
    {
     "data": {
      "text/html": [
       "<img src=\"https://github.com/jojoayan1992/SaarlandUniversityNeuralNetworks/blob/master/PCA2.jpeg?raw=true\"/>"
      ],
      "text/plain": [
       "<IPython.core.display.Image object>"
      ]
     },
     "execution_count": 4,
     "metadata": {},
     "output_type": "execute_result"
    }
   ],
   "source": [
    "Image(url='https://github.com/jojoayan1992/SaarlandUniversityNeuralNetworks/blob/master/PCA2.jpeg?raw=true')"
   ]
  },
  {
   "cell_type": "code",
   "execution_count": 5,
   "metadata": {},
   "outputs": [
    {
     "data": {
      "text/html": [
       "<img src=\"https://github.com/jojoayan1992/SaarlandUniversityNeuralNetworks/blob/master/PCA3.jpeg?raw=true\"/>"
      ],
      "text/plain": [
       "<IPython.core.display.Image object>"
      ]
     },
     "execution_count": 5,
     "metadata": {},
     "output_type": "execute_result"
    }
   ],
   "source": [
    "Image(url='https://github.com/jojoayan1992/SaarlandUniversityNeuralNetworks/blob/master/PCA3.jpeg?raw=true')"
   ]
  },
  {
   "cell_type": "code",
   "execution_count": 6,
   "metadata": {},
   "outputs": [
    {
     "data": {
      "text/html": [
       "<img src=\"https://github.com/jojoayan1992/SaarlandUniversityNeuralNetworks/blob/master/PCA4.jpeg?raw=true\"/>"
      ],
      "text/plain": [
       "<IPython.core.display.Image object>"
      ]
     },
     "execution_count": 6,
     "metadata": {},
     "output_type": "execute_result"
    }
   ],
   "source": [
    "Image(url='https://github.com/jojoayan1992/SaarlandUniversityNeuralNetworks/blob/master/PCA4.jpeg?raw=true')"
   ]
  },
  {
   "cell_type": "markdown",
   "metadata": {},
   "source": [
    "**Points**: 7.0 of 7.0\n",
    "**Comments**:\n",
    "- Please try to use matplotlib for the plotting part next time.\n",
    "- You find a link to a nice introduction and some advises for using it [here](https://github.com/mmarius/nnia-tutorial/blob/master/assignment-3/tutorial3-marius.ipynb)"
   ]
  },
  {
   "cell_type": "markdown",
   "metadata": {},
   "source": [
    "### Gradient descent and Newton's method $~$ (5 points)"
   ]
  },
  {
   "cell_type": "markdown",
   "metadata": {},
   "source": [
    "** Suppose $f(x) = 2x^3 - 5x + 6$ **\n",
    "\n",
    "$6$. Write down the mathematical expressions for minimizing f(x) using Gradient descent(GD) and then using Newton's Method(NM). $~$ ($1$ points)\n",
    "\n",
    "$7$. Report the updated values of x, both for GD and NM, at $x = 0$. what do you observe? $~$ ($1$ points)"
   ]
  },
  {
   "cell_type": "code",
   "execution_count": 7,
   "metadata": {},
   "outputs": [
    {
     "data": {
      "text/html": [
       "<img src=\"https://github.com/jojoayan1992/SaarlandUniversityNeuralNetworks/blob/master/NNIAAssignment3_1.jpg?raw=true\"/>"
      ],
      "text/plain": [
       "<IPython.core.display.Image object>"
      ]
     },
     "execution_count": 7,
     "metadata": {},
     "output_type": "execute_result"
    }
   ],
   "source": [
    "Image(url='https://github.com/jojoayan1992/SaarlandUniversityNeuralNetworks/blob/master/NNIAAssignment3_1.jpg?raw=true')"
   ]
  },
  {
   "cell_type": "code",
   "execution_count": 8,
   "metadata": {
    "scrolled": true
   },
   "outputs": [
    {
     "data": {
      "text/html": [
       "<img src=\"https://github.com/jojoayan1992/SaarlandUniversityNeuralNetworks/blob/master/NNIAAssignment3_2.jpg?raw=true\"/>"
      ],
      "text/plain": [
       "<IPython.core.display.Image object>"
      ]
     },
     "execution_count": 8,
     "metadata": {},
     "output_type": "execute_result"
    }
   ],
   "source": [
    "Image(url='https://github.com/jojoayan1992/SaarlandUniversityNeuralNetworks/blob/master/NNIAAssignment3_2.jpg?raw=true')"
   ]
  },
  {
   "cell_type": "markdown",
   "metadata": {},
   "source": [
    "**Points**: 2.0 of 2.0\n",
    "**Comments**:\n",
    "- None"
   ]
  },
  {
   "cell_type": "markdown",
   "metadata": {},
   "source": [
    "$8$. Perform GD and NM for the above function using Tensorflow $~$ ($1.5 + 1.5$ points)"
   ]
  },
  {
   "cell_type": "code",
   "execution_count": 9,
   "metadata": {},
   "outputs": [
    {
     "name": "stdout",
     "output_type": "stream",
     "text": [
      "Starting at x: 2.0 f(x): 12.0\n",
      "Step: 1 x: 1.0499999523162842 f(x): 3.0652496814727783\n",
      "Step: 2 x: 0.9692500233650208 f(x): 2.974865436553955\n",
      "Step: 3 x: 0.9374163150787354 f(x): 2.9604265689849854\n",
      "Step: 4 x: 0.9237915277481079 f(x): 2.9577527046203613\n",
      "Step: 5 x: 0.9177742600440979 f(x): 2.957228660583496\n",
      "Step: 6 x: 0.9150813817977905 f(x): 2.9571235179901123\n",
      "Step: 7 x: 0.9138692021369934 f(x): 2.9571022987365723\n",
      "Step: 8 x: 0.9133221507072449 f(x): 2.9570980072021484\n",
      "Step: 9 x: 0.9130749702453613 f(x): 2.957097053527832\n",
      "Step: 10 x: 0.9129632115364075 f(x): 2.957097053527832\n",
      "Step: 11 x: 0.9129126667976379 f(x): 2.957097053527832\n",
      "Step: 12 x: 0.9128897786140442 f(x): 2.957097053527832\n",
      "Step: 13 x: 0.912879467010498 f(x): 2.957097053527832\n",
      "Step: 14 x: 0.9128748178482056 f(x): 2.957097053527832\n",
      "Step: 15 x: 0.9128726720809937 f(x): 2.957096815109253\n",
      "Step: 16 x: 0.9128717184066772 f(x): 2.957096815109253\n",
      "Step: 17 x: 0.9128713011741638 f(x): 2.957097053527832\n",
      "Step: 18 x: 0.9128710627555847 f(x): 2.957096815109253\n",
      "Step: 19 x: 0.9128710031509399 f(x): 2.957097053527832\n",
      "Step: 20 x: 0.9128709435462952 f(x): 2.957096576690674\n",
      "Step: 21 x: 0.9128709435462952 f(x): 2.957096576690674\n"
     ]
    }
   ],
   "source": [
    "import numpy as np\n",
    "import tensorflow as tf\n",
    "\n",
    "# TODO : Implement Gradient Descent with Tensorflow\n",
    "x = tf.Variable(2, name='x', dtype=tf.float32)\n",
    "f_x = 2*x**3 - 5*x + 6\n",
    "\n",
    "optimizer = tf.train.GradientDescentOptimizer(0.05)\n",
    "train = optimizer.minimize(f_x)\n",
    "init = tf.global_variables_initializer()\n",
    "\n",
    "with tf.Session() as sess:\n",
    "    sess.run(init)\n",
    "    print (\"Starting at x:\", float(sess.run(x)),\"f(x):\",float(sess.run(f_x)))\n",
    "    x_prev = float(sess.run(x))\n",
    "    for step in range(50):\n",
    "        sess.run(train)\n",
    "        print(\"Step:\",step+1,\"x:\",float(sess.run(x)),\"f(x):\",float(sess.run(f_x)))\n",
    "        # Keeping an additional condition here to break out of we converge below a certain threshold\n",
    "        if abs(x_prev - float(sess.run(x))) < 0.00000001:\n",
    "            break\n",
    "        x_prev = float(sess.run(x))\n",
    "        #print(\"NOW:\",x_prev)"
   ]
  },
  {
   "cell_type": "code",
   "execution_count": 10,
   "metadata": {},
   "outputs": [
    {
     "name": "stdout",
     "output_type": "stream",
     "text": [
      "Starting at x: 2.0 f(x): 12.0\n",
      "Step: 1 x: 1.2083332538604736 f(x): 3.4868345260620117\n",
      "Step: 2 x: 0.9489941596984863 f(x): 2.9643383026123047\n",
      "Step: 3 x: 0.9135584235191345 f(x): 2.957099676132202\n",
      "Step: 4 x: 0.9128711819648743 f(x): 2.957097053527832\n",
      "Step: 5 x: 0.9128709435462952 f(x): 2.957096576690674\n",
      "Step: 6 x: 0.9128709435462952 f(x): 2.957096576690674\n"
     ]
    }
   ],
   "source": [
    "import numpy as np\n",
    "import tensorflow as tf\n",
    "\n",
    "# TODO : Implement Newton's Method with Tensorflow\n",
    "x = tf.Variable(2, name='x', dtype=tf.float32)\n",
    "f_x = 2*x**3 - 5*x + 6\n",
    "\n",
    "deriv1 = tf.gradients(f_x, x)\n",
    "deriv2 = tf.gradients(deriv1, x)\n",
    "\n",
    "optimizer = x - (tf.div(deriv1,deriv2))\n",
    "assign_x = x.assign(optimizer[0])\n",
    "\n",
    "init = tf.global_variables_initializer()\n",
    "\n",
    "with tf.Session() as sess:\n",
    "    sess.run(init)\n",
    "    print (\"Starting at x:\", float(sess.run(x)),\"f(x):\",float(sess.run(f_x)))\n",
    "    x_prev = float(sess.run(x))\n",
    "    for step in range(30):\n",
    "        sess.run(optimizer)\n",
    "        x_val = sess.run(assign_x)\n",
    "        print(\"Step:\",step+1,\"x:\",float(x_val),\"f(x):\",float(sess.run(f_x)))\n",
    "        # Keeping an additional condition here to break out of we converge below a certain threshold\n",
    "        if abs(x_prev - float(sess.run(x))) < 0.00000001:\n",
    "            break\n",
    "        x_prev = float(x_val)"
   ]
  },
  {
   "cell_type": "markdown",
   "metadata": {},
   "source": [
    "**Points**: 2.0 of 3.0\n",
    "**Comments**:\n",
    "- You should implement the gradient descent update rule yourself and not use the predefined optimizer from TensorFlow. Similar as you did for Newtons method. "
   ]
  },
  {
   "cell_type": "markdown",
   "metadata": {},
   "source": [
    "### Gradient descent computation and visualisation $~$ (3 + 2 points)"
   ]
  },
  {
   "cell_type": "markdown",
   "metadata": {},
   "source": [
    "#### Now visualize the Gradient Descent algorithm to fit a straight line to a data generated using  $y = \\theta_{true}x$ $~$, i.e., use this expression to first produce the data (see code below the lines starting with m=20 and following) and then try to fit a straight line to this data. Fitting a straight line means that you have to approximate this $\\theta_{true}$ parameter using the hypothesis or predictive model by minimizing the cost function defined below.\n",
    "\n",
    "**For this task you should minimize a cost function of the form:**\n",
    "$$\\frac{1}{2m}\\sum_{i=1}^m [h_{\\theta}(x^i)-y^i]^2$$\n",
    "where,\n",
    "$x^i$ is the $i^{th}$ input \n",
    "\n",
    "$y^i$ is the true $i^{th}$ response or output\n",
    "\n",
    "$h_{\\theta}(x)$ is the hypothesis or predictive model"
   ]
  },
  {
   "cell_type": "markdown",
   "metadata": {},
   "source": [
    "#### Assume $~$ $h_{\\theta}(x) = \\theta x$ $~$ to be the hypothesis or predictive model"
   ]
  },
  {
   "cell_type": "code",
   "execution_count": 16,
   "metadata": {},
   "outputs": [
    {
     "name": "stdout",
     "output_type": "stream",
     "text": [
      "[  9.02631579e-02   8.40578487e-02   7.80735001e-02   7.23101120e-02\n",
      "   6.67676845e-02   6.14462176e-02   5.63457112e-02   5.14661654e-02\n",
      "   4.68075802e-02   4.23699555e-02   3.81532914e-02   3.41575878e-02\n",
      "   3.03828449e-02   2.68290625e-02   2.34962406e-02   2.03843793e-02\n",
      "   1.74934786e-02   1.48235384e-02   1.23745588e-02   1.01465398e-02\n",
      "   8.13948136e-03   6.35338346e-03   4.78824613e-03   3.44406936e-03\n",
      "   2.32085315e-03   1.41859751e-03   7.37302440e-04   2.76967930e-04\n",
      "   3.75939850e-05   1.91806046e-05   2.21727789e-04   6.45235538e-04\n",
      "   1.28970385e-03   2.15513273e-03   3.24152217e-03   4.54887218e-03\n",
      "   6.07718275e-03   7.82645389e-03   9.79668559e-03   1.19878779e-02\n",
      "   1.44000307e-02   1.70331441e-02   1.98872180e-02   2.29622526e-02\n",
      "   2.62582477e-02   2.97752033e-02   3.35131195e-02   3.74719963e-02\n",
      "   4.16518337e-02   4.60526316e-02]\n",
      "0.494950522338\n"
     ]
    },
    {
     "data": {
      "text/plain": [
       "<matplotlib.text.Text at 0x119365b38>"
      ]
     },
     "execution_count": 16,
     "metadata": {},
     "output_type": "execute_result"
    },
    {
     "data": {
      "image/png": "[encoded data removed]",
      "text/plain": [
       "<matplotlib.figure.Figure at 0x11839dd68>"
      ]
     },
     "metadata": {},
     "output_type": "display_data"
    },
    {
     "data": {
      "text/plain": [
       "<matplotlib.figure.Figure at 0x119259240>"
      ]
     },
     "metadata": {},
     "output_type": "display_data"
    }
   ],
   "source": [
    "# Import libraries\n",
    "import numpy as np\n",
    "import matplotlib.pyplot as plt\n",
    "%matplotlib inline\n",
    "# Generate the true data which is to be fitted\n",
    "m = 20                      # number of data points for x\n",
    "theta_true = 0.5            # corresponds to the true slope\n",
    "x = np.linspace(-1,1,m)     # x values or inputs\n",
    "y = theta_true * x          # True response\n",
    "\n",
    "\n",
    "# Create a subplot window\n",
    "# On the left window plot the true data and the approximation \n",
    "# that you obtain with different estimates of the slope theta_true\n",
    "# and on the right window plot the cost function \n",
    "\n",
    "# TODO : Create the subplot window\n",
    "fig, ax = plt.subplots(1,2)\n",
    "plt.figure(figsize=(1,1))\n",
    "\n",
    "def hypothesis(x, theta):\n",
    "    \"\"\"Our \"hypothesis or predictive model\", a straight line through the origin.\"\"\"\n",
    "    \n",
    "    # TODO : Implement\n",
    "    y = theta * x\n",
    "    return y\n",
    "    pass\n",
    "\n",
    "def cost_func(theta):\n",
    "    \"\"\"The cost function describing the goodness of fit.\"\"\"  \n",
    "    \"\"\"\n",
    "    cost_func = (1/2m)*summ(abs(y_true - y)) \n",
    "    \"\"\"\n",
    "    # TODO : Implement\n",
    "    err = np.array([])\n",
    "    for t in theta:\n",
    "        pred_y = hypothesis(x, t)\n",
    "        e = (1/(2*m)) * np.sum((pred_y - y)**2)\n",
    "        err = np.append(err,e)\n",
    "    return err\n",
    "    pass\n",
    "\n",
    "\n",
    "# First construct a grid of theta parameter and their corresponding\n",
    "# cost function values.\n",
    "theta_grid = np.linspace(-0.2,1,50)\n",
    "# Find the cost function values to be stored in J_grid\n",
    "# TODO : Create J_grid\n",
    "J_grid = cost_func(theta_grid)\n",
    "print(J_grid)\n",
    "# Plot the cost function as a function of theta.\n",
    "# TODO : Do the plot\n",
    "ax[1].plot(theta_grid, J_grid, ls = '-', color='blue', label='Cost')\n",
    "ax[1].legend(loc='upper left')\n",
    "\n",
    "# Take N steps with learning rate alpha down the steepest gradient,\n",
    "# starting at theta = 0.\n",
    "N = 10\n",
    "alpha = 1\n",
    "# this is just a starting value of alpha, \n",
    "# you must consider different values of alpha (try using large values)\n",
    "# and redo the steps below to generate different plots\n",
    "theta = [0]\n",
    "# Compute the N steps down the steepest gradient\n",
    "# TODO\n",
    "\n",
    "for i in range(N):\n",
    "    pred_y = hypothesis(x, theta[-1])\n",
    "    diff = (pred_y - y)\n",
    "    p = (diff * x)\n",
    "    grad = (1/m) * np.sum(p)\n",
    "    new_theta = theta[-1] - (alpha * grad)\n",
    "    theta.append(new_theta)\n",
    "print (theta[-1])\n",
    "costs = list(cost_func(np.array(theta)))\n",
    "# Annotate the cost function plot with coloured points indicating the\n",
    "# parameters chosen and red arrows indicating the steps down the gradient.\n",
    "# Also plot the fit function on the left window of the subplot in a matching colour.\n",
    "# TODO\n",
    "ax[1].plot(theta, costs, 'y<')\n",
    "\n",
    "ax[0].plot(x,y,ls='-',color='blue',label='True Data')\n",
    "ax[0].plot(x,hypothesis(x,theta[-1]), 'y--',label='Fitted Model')\n",
    "# Put the labels, titles and a legend.\n",
    "# TODO\n",
    "ax[0].legend(loc='upper left')\n",
    "ax[0].set_title('Fitting Data')\n",
    "ax[0].set_xlabel('Value of x')\n",
    "ax[0].set_ylabel('Value of y')\n",
    "\n",
    "ax[1].legend(loc='upper left')\n",
    "ax[1].set_title('Plot of Cost function')\n",
    "ax[1].set_xlabel('Theta')\n",
    "ax[1].set_ylabel('Cost')"
   ]
  },
  {
   "cell_type": "markdown",
   "metadata": {},
   "source": [
    "#### Now assume that the data is generated using  $y = \\theta_1x + \\theta_0$\n",
    "** Following the same logic you applied for the above task define a predictive model \n",
    "and perform 5 steps of gradient descent with learning rate alpha = 0.7 **"
   ]
  },
  {
   "cell_type": "code",
   "execution_count": 17,
   "metadata": {},
   "outputs": [
    {
     "name": "stdout",
     "output_type": "stream",
     "text": [
      "Theta0: [0, 1.3999999999999997, 1.8199999999999998, 1.946, 1.9838, 1.9951399999999999]\n",
      "Theta1: [0, 0.12894736842105253, 0.22463988919667577, 0.29565381250911205, 0.34835361875676213, 0.38746242234054451]\n"
     ]
    },
    {
     "data": {
      "text/plain": [
       "<matplotlib.text.Text at 0x119511cf8>"
      ]
     },
     "execution_count": 17,
     "metadata": {},
     "output_type": "execute_result"
    },
    {
     "data": {
      "image/png": "[encoded data removed]",
      "text/plain": [
       "<matplotlib.figure.Figure at 0x1193e30b8>"
      ]
     },
     "metadata": {},
     "output_type": "display_data"
    },
    {
     "data": {
      "text/plain": [
       "<matplotlib.figure.Figure at 0x1193e3550>"
      ]
     },
     "metadata": {},
     "output_type": "display_data"
    }
   ],
   "source": [
    "# Generate the true data which is to be fitted\n",
    "m = 20\n",
    "theta0_true = 2\n",
    "theta1_true = 0.5\n",
    "x = np.linspace(-1,1,m)\n",
    "y = theta0_true + theta1_true * x\n",
    "\n",
    "# Create the sub-plot: left window is the data, right window will be the cost function.\n",
    "# TODO\n",
    "fig, ax = plt.subplots(1,2)\n",
    "plt.figure(figsize=(1,1))\n",
    "\n",
    "def hypothesis(x, theta0, theta1):\n",
    "    \"\"\"Our \"hypothesis function\", a straight line.\"\"\"\n",
    "    \n",
    "    # TODO : Implement\n",
    "    pred_y = theta1 * x + theta0\n",
    "    return pred_y\n",
    "    pass\n",
    "\n",
    "def cost_func(theta0, theta1):\n",
    "    \"\"\"The cost function, J(theta0, theta1) describing the goodness of fit.\"\"\"\n",
    "    costs = []\n",
    "    # TODO : Implement\n",
    "    for t0 in (theta0):\n",
    "        e1 = []\n",
    "        for t1 in theta1:\n",
    "            pred_y = hypothesis(x, t0, t1)\n",
    "            err = (1/2*m) * np.sum((pred_y - y)**2)\n",
    "            e1.append(err)\n",
    "        costs.append(e1)\n",
    "    return costs\n",
    "    pass\n",
    "\n",
    "\n",
    "# First construct a grid of (theta0, theta1) parameter pairs and their\n",
    "# corresponding cost function values.\n",
    "theta0_grid = np.linspace(-1,4,101)\n",
    "theta1_grid = np.linspace(-5,5,101)\n",
    "# Compute the cost function values\n",
    "# TODO\n",
    "J_cost = cost_func(theta0_grid, theta1_grid)\n",
    "#print(J_cost)\n",
    "# Do a labeled contour plot for the cost function on right window of the above subplot\n",
    "# TODO \n",
    "\n",
    "ax[1].contour(theta0_grid, theta1_grid, J_cost,30)\n",
    "\n",
    "# Take 5 steps with learning rate alpha = 0.7 down the steepest gradient,\n",
    "# starting at (theta0, theta1) = (0, 0).\n",
    "# TODO\n",
    "\n",
    "alpha = 0.7\n",
    "theta0, theta1 = [0], [0]\n",
    "\n",
    "\n",
    "for i in range(5):\n",
    "    y_pred = hypothesis(x, theta0[-1], theta1[-1])\n",
    "    dif = (y_pred - y)\n",
    "    th0_grad = (1/m) * np.sum(dif)\n",
    "    th1_grad = (1/m) * np.sum(x*dif)\n",
    "    theta0.append(theta0[-1] - alpha*th0_grad)\n",
    "    theta1.append(theta1[-1] - alpha*th1_grad)\n",
    "print ('Theta0:',theta0)\n",
    "print ('Theta1:',theta1)\n",
    "# Annotate the cost function plot with coloured points indicating the\n",
    "# parameters chosen and red arrows indicating the steps down the gradient.\n",
    "# Also plot the fit function on the left window in a matching colour.\n",
    "# TODO\n",
    "ax[0].plot(x, y,'b',label='True Data')\n",
    "ax[0].plot(x,hypothesis(x,theta0[-1],theta1[-1]),'r',label='Fitted Model')\n",
    "ax[1].plot(theta0,theta1,zorder=1,linestyle='solid', marker='>',label='Gradient Descent')\n",
    "\n",
    "# Put the labels, titles and a legend.\n",
    "# TODO\n",
    "\n",
    "ax[0].legend(loc='upper left')\n",
    "ax[0].set_title('Fitting Data')\n",
    "ax[0].set_xlabel('Value of x')\n",
    "ax[0].set_ylabel('Value of y')\n",
    "\n",
    "ax[1].legend(loc='upper left')\n",
    "ax[1].set_title('Contour Plot of Cost function')\n",
    "ax[1].set_xlabel('Theta_0')\n",
    "ax[1].set_ylabel('Theta_1')"
   ]
  },
  {
   "cell_type": "markdown",
   "metadata": {},
   "source": [
    "**Points**: 5.0 of 5.0\n",
    "**Comments**:\n",
    "- None"
   ]
  },
  {
   "cell_type": "markdown",
   "metadata": {},
   "source": [
    "### Linear Algebra Bonus\n",
    "***[Additional material - Linear Algebra Basics](http://www.cs.ubc.ca/~schmidtm/Documents/2009_Notes_LinearAlgebra.pdf)***"
   ]
  },
  {
   "cell_type": "markdown",
   "metadata": {},
   "source": [
    "#### Trace of a Matrix $~$ (3 points)\n",
    "***[Reading material on Trace](https://en.wikipedia.org/wiki/Trace_(linear_algebra)***"
   ]
  },
  {
   "cell_type": "markdown",
   "metadata": {},
   "source": [
    "Prove that the trace of a ***symmetric positive definite*** matrix is the sum of its eigenvalues.    ($0.5$ points)\n",
    "\n",
    "Suppose Y is a mxn matrix with ***$m \\leq n$ and has full rank***, then\n",
    "\n",
    "a.   Give the rank of Y.                                                                 ($0.5$ points)\n",
    "\n",
    "b.  Show that trace of $Y^{T}(Y^TY)^{-1}Y$ = rank(Y)                                     ($1$ points)\n",
    "\n",
    "c. Prove that $Y^{T}(Y^TY)^{-1}Y$ is the projection matrix w.r.t space defined by Y.     ($1$ points)\n"
   ]
  },
  {
   "cell_type": "code",
   "execution_count": 13,
   "metadata": {},
   "outputs": [
    {
     "data": {
      "text/html": [
       "<img src=\"https://github.com/jojoayan1992/SaarlandUniversityNeuralNetworks/blob/master/NNIA3_Bonus_3.jpg?raw=true\"/>"
      ],
      "text/plain": [
       "<IPython.core.display.Image object>"
      ]
     },
     "execution_count": 13,
     "metadata": {},
     "output_type": "execute_result"
    }
   ],
   "source": [
    "Image(url='https://github.com/jojoayan1992/SaarlandUniversityNeuralNetworks/blob/master/NNIA3_Bonus_3.jpg?raw=true')"
   ]
  },
  {
   "cell_type": "markdown",
   "metadata": {},
   "source": [
    "**Points**: 0.5 of 3.0\n",
    "**Comments**:\n",
    "- None"
   ]
  },
  {
   "cell_type": "markdown",
   "metadata": {},
   "source": [
    "#### Jacobian $~$ (3 points)\n",
    "\n",
    "***[Reading material on Jacobian](https://en.wikipedia.org/wiki/Jacobian_matrix_and_determinant)***"
   ]
  },
  {
   "cell_type": "markdown",
   "metadata": {},
   "source": [
    "Show that the Jacobian determinant of $\\frac{\\partial(fg, h)}{\\partial(u, v)}$ is equal to $\\frac{\\partial(f, h)}{\\partial(u, v)}g + f\\frac{\\partial(g, h)}{\\partial(u, v)}$,\n",
    "\n",
    "where f,g,h are functions of u and v(i.e., f(u,v), g(u,v), h(u,v))   ($3$ points)\n",
    "\n",
    "Hint: Use the property $\\frac{\\partial(y, x)}{\\partial(u, v)} = \\frac{\\partial(y)}{\\partial(u)}\\frac{\\partial(x)}{\\partial(v)}-\\frac{\\partial(y)}{\\partial(v)}\\frac{\\partial(x)}{\\partial(u)}$"
   ]
  },
  {
   "cell_type": "markdown",
   "metadata": {},
   "source": [
    "#### Hessian $~$ (2 points)\n",
    "***[Reading material on Hessian](https://en.wikipedia.org/wiki/Hessian_matrix)***"
   ]
  },
  {
   "cell_type": "markdown",
   "metadata": {},
   "source": [
    "$M=\\left[\\begin{array}{cccc}\n",
    "   5 & 1 & 0 & 1\\\\\n",
    "   1 & 4 & 1 & 0\\\\\n",
    "   0 & 1 & 3 & 1\\\\\n",
    "   1 & 0 & 1 & 2\\\\\n",
    "  \\end{array}\\right]$\n",
    "  \n",
    "denote the Hessian matrix, a particular point, for a functional.\n",
    "\n",
    "a. What properties of the functional can you infer from the above information.(give mathematical reasons) ($1$ point)\n",
    "\n",
    "b. Provide a generic mathematical representation(e.g. generic representation of a straight line is $ax+by+c=0$) for the above functional. ($1$ point)"
   ]
  },
  {
   "cell_type": "code",
   "execution_count": 14,
   "metadata": {},
   "outputs": [
    {
     "data": {
      "text/html": [
       "<img src=\"https://github.com/jojoayan1992/SaarlandUniversityNeuralNetworks/blob/master/NNIA3_Bonus_1.jpg?raw=true\"/>"
      ],
      "text/plain": [
       "<IPython.core.display.Image object>"
      ]
     },
     "execution_count": 14,
     "metadata": {},
     "output_type": "execute_result"
    }
   ],
   "source": [
    "Image(url='https://github.com/jojoayan1992/SaarlandUniversityNeuralNetworks/blob/master/NNIA3_Bonus_1.jpg?raw=true')"
   ]
  },
  {
   "cell_type": "code",
   "execution_count": 15,
   "metadata": {},
   "outputs": [
    {
     "data": {
      "text/html": [
       "<img src=\"https://github.com/jojoayan1992/SaarlandUniversityNeuralNetworks/blob/master/NNIA3_Bonus_2.jpg?raw=true\"/>"
      ],
      "text/plain": [
       "<IPython.core.display.Image object>"
      ]
     },
     "execution_count": 15,
     "metadata": {},
     "output_type": "execute_result"
    }
   ],
   "source": [
    "Image(url='https://github.com/jojoayan1992/SaarlandUniversityNeuralNetworks/blob/master/NNIA3_Bonus_2.jpg?raw=true')"
   ]
  },
  {
   "cell_type": "markdown",
   "metadata": {},
   "source": [
    "**Points**: 2.0 of 2.0\n",
    "**Comments**:\n",
    "- None"
   ]
  },
  {
   "cell_type": "markdown",
   "metadata": {},
   "source": [
    "## Grading: 19.0 of 20.0 points + 2.5 bonus points. Well done!"
   ]
  }
 ],
 "metadata": {
  "kernelspec": {
   "display_name": "Python 3",
   "language": "python",
   "name": "python3"
  },
  "language_info": {
   "codemirror_mode": {
    "name": "ipython",
    "version": 3
   },
   "file_extension": ".py",
   "mimetype": "text/x-python",
   "name": "python",
   "nbconvert_exporter": "python",
   "pygments_lexer": "ipython3",
   "version": "3.6.2"
  }
 },
 "nbformat": 4,
 "nbformat_minor": 2
}
