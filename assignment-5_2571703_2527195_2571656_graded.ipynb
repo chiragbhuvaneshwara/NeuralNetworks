{
 "cells": [
  {
   "cell_type": "markdown",
   "metadata": {},
   "source": [
    "# Assignment Sheet 5: Classification with TensorFlow (deadline: 8 Dec, 23:59)"
   ]
  },
  {
   "cell_type": "markdown",
   "metadata": {},
   "source": [
    "---"
   ]
  },
  {
   "cell_type": "markdown",
   "metadata": {},
   "source": [
    "## 1. Practicing Chain-Rule and Backpropagation (5.0 points)"
   ]
  },
  {
   "cell_type": "markdown",
   "metadata": {},
   "source": [
    "Given the following function $$ f(w, b) = \\frac{e^{w+b} w + \\sigma(w) + b}{(\\sigma(b) + \\sigma(w))²}$$ with $\\sigma(x) = \\frac{1}{1+e^{-x}}$ and $w, b \\in \\mathbb{R}$."
   ]
  },
  {
   "cell_type": "markdown",
   "metadata": {},
   "source": [
    "$a)$ Compute the partial derivatives of $f(w, b)$ with respect to $w$ and $b$ analytically. ($0.5$ points)"
   ]
  },
  {
   "cell_type": "code",
   "execution_count": 1,
   "metadata": {},
   "outputs": [
    {
     "data": {
      "text/html": [
       "<img src=\"https://raw.githubusercontent.com/jojoayan1992/SaarlandUniversityNeuralNetworks/master/NNAssignment5.jpg\"/>"
      ],
      "text/plain": [
       "<IPython.core.display.Image object>"
      ]
     },
     "execution_count": 1,
     "metadata": {},
     "output_type": "execute_result"
    }
   ],
   "source": [
    "from IPython.display import Image\n",
    "Image(url='https://raw.githubusercontent.com/jojoayan1992/SaarlandUniversityNeuralNetworks/master/NNAssignment5.jpg')"
   ]
  },
  {
   "cell_type": "markdown",
   "metadata": {},
   "source": [
    "$b)$ Decompose the function $f(w, b)$ into primitives. Rewrite the function using these primitives. ($0.5$ points)"
   ]
  },
  {
   "cell_type": "code",
   "execution_count": 2,
   "metadata": {
    "collapsed": true
   },
   "outputs": [],
   "source": [
    "# TODO: Write function primitives in python\n",
    "import math\n",
    "\n",
    "# Example\n",
    "def square(x):\n",
    "    return x**2\n",
    "\n",
    "def sigmoid(x):\n",
    "    return 1/(1+(math.exp(-x)))\n",
    "\n",
    "def add(a,b):\n",
    "    return a+b\n",
    "\n",
    "def expo(x):\n",
    "    return math.exp(x)\n",
    "\n",
    "def prod(x,y):\n",
    "    return x*y\n",
    "\n",
    "def div(a,b):\n",
    "    return a/b\n",
    "\n",
    "\n",
    "def func(w,b):\n",
    "\n",
    "    numerator = add(add(prod(expo(add(w,b)),w), sigmoid(w)),b)\n",
    "\n",
    "    denominator = square(add(sigmoid(b), sigmoid(w)))\n",
    "    \n",
    "    func_val = div(numerator, denominator)\n",
    "    \n",
    "    return func_val\n"
   ]
  },
  {
   "cell_type": "markdown",
   "metadata": {},
   "source": [
    "$c)$ Draw a computation graph for the function $f(w, b)$ using the primitives defined above as nodes. You may want to use the [NetworkX](https://networkx.github.io/) library for this task. You can install it by running `conda install networkx` from within your activated *nnia* conda environment. ($1.0$ point)"
   ]
  },
  {
   "cell_type": "code",
   "execution_count": 3,
   "metadata": {},
   "outputs": [
    {
     "data": {
      "text/html": [
       "<img src=\"https://github.com/jojoayan1992/SaarlandUniversityNeuralNetworks/blob/master/NNIA5_Q1_1.jpg?raw=true\"/>"
      ],
      "text/plain": [
       "<IPython.core.display.Image object>"
      ]
     },
     "execution_count": 3,
     "metadata": {},
     "output_type": "execute_result"
    }
   ],
   "source": [
    "Image(url='https://github.com/jojoayan1992/SaarlandUniversityNeuralNetworks/blob/master/NNIA5_Q1_1.jpg?raw=true')"
   ]
  },
  {
   "cell_type": "code",
   "execution_count": 4,
   "metadata": {},
   "outputs": [
    {
     "data": {
      "image/png": "[encoded data removed]",
      "text/plain": [
       "<matplotlib.figure.Figure at 0x10839b2b0>"
      ]
     },
     "metadata": {},
     "output_type": "display_data"
    }
   ],
   "source": [
    "import networkx as nx\n",
    "\n",
    "import matplotlib.pyplot as plt\n",
    "G = nx.MultiDiGraph()\n",
    "\n",
    "G.add_node(\"w\")\n",
    "\n",
    "G.add_node(\"b\")\n",
    "\n",
    "G.add_edges_from([(\"w\",\"Sigmoid1\"),(\"w\",\"add1\"),(\"w\",\"Sigmoid2\"),(\"w\",\"product\")])\n",
    "\n",
    "G.add_edges_from([(\"b\",\"add1\"),(\"b\",\"add3\"),(\"b\",\"Sigmoid3\"),(\"add1\",\"exp\"),(\"exp\",\"product\")])\n",
    "\n",
    "G.add_edges_from([(\"Sigmoid1\",\"add2\"),(\"product\",\"add2\")])\n",
    "\n",
    "G.add_edges_from([(\"add2\",\"add3\"),(\"b\",\"add3\")])\n",
    "\n",
    "G.add_edges_from([(\"Sigmoid2\",\"add4\"),(\"Sigmoid3\",\"add4\"),(\"add4\",\"Square\")])\n",
    "\n",
    "G.add_edges_from([(\"add3\",\"division\"),(\"Square\",\"division\")])\n",
    "\n",
    "G.add_edges_from([(\"division\",\"f_w_b\")])\n",
    "\n",
    "pos = {\"w\": (0, 20), \"b\": (0, 0), \"add1\": (20, 10), \"Sigmoid1\": (20, 20),\n",
    "      \"exp\": (20,40),\"product\": (40, 30),\"add2\": (60, 20),\"add3\": (80, 20),\"Sigmoid2\": (20,-10),\n",
    "       \"Sigmoid3\": (20, -20),\"add4\":(40,-10),\"Square\":(60,-10),\"division\":(100,0),\"f_w_b\":(120,0)}\n",
    "\n",
    "nx.draw(G, pos= pos, with_labels = True)\n",
    "\n",
    "\n",
    "plt.show()"
   ]
  },
  {
   "cell_type": "markdown",
   "metadata": {},
   "source": [
    "$d)$ Specify $\\frac{\\partial}{\\partial x} p_i$ for each of the primitives $p_i$. ($1.0$ points)"
   ]
  },
  {
   "cell_type": "code",
   "execution_count": 5,
   "metadata": {
    "collapsed": true
   },
   "outputs": [],
   "source": [
    "# TODO: Specifiy derivatives of the primitives in python\n",
    "\n",
    "# Example\n",
    "def dsquare(x):\n",
    "    return 2 * x\n",
    "\n",
    "def dpower_1(x):\n",
    "    return 1\n",
    "\n",
    "def dsigmoid(x):\n",
    "    return sigmoid(x) * (1-sigmoid(x))\n",
    "\n",
    "def dexp(x):\n",
    "    return math.exp(x)\n",
    "\n",
    "def dconst(x):\n",
    "    return 0\n",
    "\n",
    "def dadd(dx,dy):\n",
    "    return dx + dy\n",
    "    \n",
    "def dprod(x,y,dx,dy):\n",
    "    return x * dy + y * dx\n",
    "\n",
    "def ddiv(num,denom,dnum,ddenom):\n",
    "    N = (denom * dnum - num * ddenom)\n",
    "    D = math.pow(denom,2)\n",
    "    return N/D\n"
   ]
  },
  {
   "cell_type": "markdown",
   "metadata": {},
   "source": [
    "$e)$ Given the inputs $w = 5, b = -3$. Compute the forward pass of your function. You might want to store the intermediate result in a dictionary in order to later use them in backward pass. ($1.0$ point)"
   ]
  },
  {
   "cell_type": "code",
   "execution_count": 6,
   "metadata": {},
   "outputs": [
    {
     "name": "stdout",
     "output_type": "stream",
     "text": [
      "32.25720062850209\n"
     ]
    }
   ],
   "source": [
    "# Compute the forward pass using the primitives defined above\n",
    "def forward(w, b):\n",
    "    # TODO: Implement\n",
    "    forward_val = func(w,b)\n",
    "    return forward_val\n",
    "\n",
    "y = forward(5,-3)\n",
    "\n",
    "print(y)"
   ]
  },
  {
   "cell_type": "markdown",
   "metadata": {},
   "source": [
    "$f)$ For the same inputs as above, perform the backward pass in order to compute $\\frac{\\partial}{\\partial w}f~\\mid_{w=5, b=-3}$ and $\\frac{\\partial}{\\partial b}f~\\mid_{w=5, b=-3}$. ($1.0$ point)"
   ]
  },
  {
   "cell_type": "code",
   "execution_count": 7,
   "metadata": {},
   "outputs": [
    {
     "name": "stdout",
     "output_type": "stream",
     "text": [
      "40.54202440999589\n",
      "32.342276384827\n"
     ]
    }
   ],
   "source": [
    "#  TODO: Compute the backward pass using the derivatives of the primitives defined above. \n",
    "def backward(w, b):\n",
    "    # TODO: Implement\n",
    "    \n",
    "    #differentiating numerator wrt w\n",
    "    dnum_w = dadd(((dprod(math.exp(w+b),w,dexp(w+b) * dadd(dpower_1(w),dconst(b)),dpower_1(w)))),dadd(dsigmoid(w),dconst(b)))\n",
    "    #differentiating denominator wrt w\n",
    "    ddenom_w = dsquare(dadd(dconst(sigmoid(b)),dsigmoid(w)))\n",
    "    #numerator term\n",
    "    numerator = add(add(prod(expo(add(w,b)),w), sigmoid(w)),b)\n",
    "    #denominator term\n",
    "    denominator = square(add(sigmoid(b), sigmoid(w)))\n",
    "    #calling quotient derivative rule for final result\n",
    "    df_wrt_w = ddiv (numerator, denominator, dnum_w, ddenom_w)\n",
    "    \n",
    "    #differentiating numerator wrt b\n",
    "    dnum_b = dadd(dprod(math.exp(add(w,b)), w, dexp(add(w,b))*dadd(dpower_1(b),dconst(w)),dconst(w)),dadd(dconst(w),dpower_1(b)))\n",
    "    #differentiating denominator wrt b\n",
    "    ddenom_b = dsquare(dadd(dsigmoid(b),dconst(sigmoid(w))))\n",
    "    #calling quotient derivative rule for final result\n",
    "    df_wrt_b = ddiv (numerator, denominator, dnum_b, ddenom_b)\n",
    "    \n",
    "    return (df_wrt_w, df_wrt_b)\n",
    "\n",
    "(df_wrt_w, df_wrt_b) = backward (5, -3)\n",
    "\n",
    "print(df_wrt_w)\n",
    "\n",
    "print(df_wrt_b)"
   ]
  },
  {
   "cell_type": "markdown",
   "metadata": {},
   "source": [
    "**Points**: 5.0 of 5.0\n",
    "**Comments**:\n",
    "- Your derivatives are not exactly correct. But this might be due to numerical issues.\n",
    "- As an additional exercise: Check the derivatives using TensorFlow. ;-)"
   ]
  },
  {
   "cell_type": "markdown",
   "metadata": {},
   "source": [
    "## 2. Classification using Feedforward Neural Networks with TensorFlow (12.0 points)"
   ]
  },
  {
   "cell_type": "markdown",
   "metadata": {},
   "source": [
    "In this exercise, you will implement a feedforward neural network using TensorFlow. We will then train the neural network on a simple two class classification problem."
   ]
  },
  {
   "cell_type": "code",
   "execution_count": 8,
   "metadata": {
    "collapsed": true
   },
   "outputs": [],
   "source": [
    "# Imports\n",
    "import numpy as np\n",
    "import tensorflow as tf\n",
    "from sklearn.datasets import make_moons, make_circles\n",
    "from sklearn.model_selection import train_test_split\n",
    "\n",
    "%matplotlib inline\n",
    "import matplotlib.pyplot as plt"
   ]
  },
  {
   "cell_type": "markdown",
   "metadata": {},
   "source": [
    "Let's create some dummy data using the scikit-learn library."
   ]
  },
  {
   "cell_type": "code",
   "execution_count": 9,
   "metadata": {},
   "outputs": [
    {
     "data": {
      "image/png": "[encoded data removed]",
      "text/plain": [
       "<matplotlib.figure.Figure at 0x110126f60>"
      ]
     },
     "metadata": {},
     "output_type": "display_data"
    }
   ],
   "source": [
    "# Get some data\n",
    "X, y = make_moons(n_samples= 300, noise=0.15, random_state=123)\n",
    "\n",
    "# Split the data into training and test data\n",
    "X_train, X_test, y_train, y_test = train_test_split(X, y, test_size=.1)\n",
    "y_train = np.reshape(y_train, newshape=(-1, 1))\n",
    "y_test = np.reshape(y_test, newshape=(-1, 1))\n",
    "\n",
    "\n",
    "\n",
    "# Plot the training data and color the data point according to their class label\n",
    "fig, axes = plt.subplots(1, 1)\n",
    "axes.scatter(X_train[: , 0], X_train[: , 1], c=y_train, cmap='Set1')\n",
    "axes.set_title('Training Data');"
   ]
  },
  {
   "cell_type": "code",
   "execution_count": 10,
   "metadata": {},
   "outputs": [
    {
     "data": {
      "image/png": "[encoded data removed]",
      "text/plain": [
       "<matplotlib.figure.Figure at 0x11d0f8550>"
      ]
     },
     "metadata": {},
     "output_type": "display_data"
    }
   ],
   "source": [
    "fig, axes = plt.subplots(1, 1)\n",
    "axes.scatter(X_test[: , 0], X_test[: , 1], c=y_test, cmap='Set1')\n",
    "axes.set_title('Test Data');\n"
   ]
  },
  {
   "cell_type": "markdown",
   "metadata": {},
   "source": [
    "In the following you are allowed to use predefined functions of the TensorFlow API such as `tf.get_variable()`, `tf.nn.relu(x)` or `tf.random_normal_initializer()`. Addtionally you are allowed to use the gradient descent optimizer `tf.train.GradientDescentOptimizer` predefined by TensorFlow. However, you are not allowed to use any predefined layer from the [API](https://www.tensorflow.org/api_docs/python/tf/layers) such as `tf.Layers.Dense` or `tf.contrib.layers.fully_connected`. It is your task to implement these layers yourself."
   ]
  },
  {
   "cell_type": "markdown",
   "metadata": {},
   "source": [
    "**Before you start**: In this exercise you will implement a single hidden layer feedforward neural network. In case you are unfamiliar with the terminology and notation used here, please consult chapter 6 of the Deep Learning Book before you proceed."
   ]
  },
  {
   "cell_type": "markdown",
   "metadata": {},
   "source": [
    "Generally speaking, a feedword neural network with a single hidden layer can be represented by the following function $$ f(x;\\theta) = f^{(2)}(f^{(1)}(f^{(0)}(x)))$$ where $f^{(0)}(x)$ is the input layer, $f^{(1)}(x)$ is the so called hidden layer, and $f^{(2)}(x)$ is the ouput layer of the network. $\\theta$ represents the parameters of the network whose values will be learned during the training phase."
   ]
  },
  {
   "cell_type": "markdown",
   "metadata": {},
   "source": [
    "The network that you will implement in this exercise has the following layers:\n",
    "* $f^{(0)}(x) = \\mathbf{X}$, with $\\mathbf{X} \\in \\mathbb{R}^{b, p}$ where $b$ is the batch size and $p$ is the number of features.\n",
    "* $f^{(1)}(x) = g(\\mathbf{X} \\mathbf{W_1}+b_1)$, with $\\mathbf{X} \\in \\mathbb{R}^{b, p}$, $\\mathbf{W_1} \\in \\mathbb{R}^{p,u_1}$, $b_1 \\in \\mathbb{R}^{u_1}$ where $u_1$ is the number of **units** of this particular layer. Additonally, $g(x) = \\max{\\{0, x\\}}$ is the so called **rectified linear unit** (*ReLU*) activation function. \n",
    "* $f^{(2)}(x) = \\sigma(\\mathbf{X} \\mathbf{W_2}+b_2)$, with $\\mathbf{X} \\in \\mathbb{R}^{b, u_1}$, $\\mathbf{W_1} \\in \\mathbb{R}^{u_1,u_2}$, $b_1 \\in \\mathbb{R}^{u_2}$ where $u_2$ is the number of **units** of this particular layer. Additonally, $\\sigma(x) = \\frac{1}{1 + \\exp{-x}}$ is the **sigmoid** function.\n",
    "\n",
    "Note that both, $g(x)$ and $\\sigma(x)$ are applied **elementwise**. Further the addition with the bias vector is also applied **elementwise** to each column of the matrix $\\mathbf{X} \\mathbf{W}$."
   ]
  },
  {
   "cell_type": "markdown",
   "metadata": {},
   "source": [
    "$a)$ Start the implementation of your neural network by defining functions for its different layers $f^{(0)}(x),~f^{(1)}(x),~f^{(2)}(x)$. To do so, please complete the functions skeletons below."
   ]
  },
  {
   "cell_type": "markdown",
   "metadata": {},
   "source": [
    "First, implement a linear layer that computes the linear combination $\\mathbf{X} \\mathbf{W}+b$ for a given `input_shape` of $x$ and a given number of hidden units `n_hidden_units`."
   ]
  },
  {
   "cell_type": "code",
   "execution_count": 11,
   "metadata": {
    "collapsed": true
   },
   "outputs": [],
   "source": [
    "# TODO: implement the function below.\n",
    "# Hint: The following methods might be useful: tf.get_variable(), tf.random_normal_initializer(), tf.matmul(), tf.get_variable()\n",
    "def linear_layer(input_shape, n_hidden_units, x):\n",
    "    \"\"\"\n",
    "    Define a linear layer for your neural network.\n",
    "    :param input_shape: The shape of the input for the layer. Be careful to consider that your data comes in batches. \n",
    "    :param n_hidden: The number of hidden units.\n",
    "    :param x: The input to the layer.\n",
    "    :return: A tuple where the first element is the linear combination of the input with the weights and the biases of the linear layer and the second element is the shape of the output matrix.\n",
    "    \"\"\"\n",
    "    # x should be a tensor KEEP IN MIND\n",
    "    shape = [input_shape[1], n_hidden_units]\n",
    "    w = tf.get_variable(\"w\", shape = shape, initializer = tf.random_normal_initializer)\n",
    "    b = tf.get_variable(\"b\", shape = [n_hidden_units], initializer = tf.random_normal_initializer)\n",
    "    #mul = tf.matmul(x,w)\n",
    "    #result = tf.get_variable(\"result\")\n",
    "    #result.assign(tf.matmul(x,w) + b)\n",
    "    result = tf.matmul(x,w) + b\n",
    "    return (result,[input_shape[0],n_hidden_units]) \n",
    "    pass"
   ]
  },
  {
   "cell_type": "markdown",
   "metadata": {},
   "source": [
    "Next, implement a function that computes the ReLU nonlinearity."
   ]
  },
  {
   "cell_type": "code",
   "execution_count": 12,
   "metadata": {
    "collapsed": true
   },
   "outputs": [],
   "source": [
    "# TODO: implement the function below.\n",
    "def relu(x):\n",
    "    \"\"\"\n",
    "    Define the ReLU activation function.\n",
    "    :param x: The input to the activation function.\n",
    "    :return: The output of the activation function.\n",
    "    \"\"\"\n",
    "    out = tf.nn.relu(x)\n",
    "    return out\n",
    "    pass"
   ]
  },
  {
   "cell_type": "markdown",
   "metadata": {},
   "source": [
    "Next, implement a function that computes the sigmoid nonlinearity."
   ]
  },
  {
   "cell_type": "code",
   "execution_count": 13,
   "metadata": {
    "collapsed": true
   },
   "outputs": [],
   "source": [
    "# TODO: implement the function below.\n",
    "def sigmoid(x):\n",
    "    \"\"\"\n",
    "    Define the sigmoid activation function.\n",
    "    :param x: The input to the activation function.\n",
    "    :return: The output of the activation function.\n",
    "    \"\"\"\n",
    "    out = tf.nn.sigmoid(x)\n",
    "    return out\n",
    "    pass"
   ]
  },
  {
   "cell_type": "markdown",
   "metadata": {},
   "source": [
    "Additional to the layers above, you need to implement a layer that computes to loss between the prediction of your model and the actual label of your data. For the **loss function** of the network we are going to use the cross entropy between the model logits and the true labels. Take a look at the TensorFlow [API](https://www.tensorflow.org/api_docs/python/tf/nn/sigmoid_cross_entropy_with_logits) for further details. You also might want to take a look at page 128 in the Deep Learning Book for further information."
   ]
  },
  {
   "cell_type": "code",
   "execution_count": 14,
   "metadata": {
    "collapsed": true
   },
   "outputs": [],
   "source": [
    "# TODO: implement the function below.\n",
    "def cross_entropy_loss(labels, unscaled_logits):\n",
    "    \"\"\"\n",
    "    Define the cross entropy loss function between the true labels and the model predictions. Be careful to consider that your data comes in batches.\n",
    "    :param labels: The true labels.\n",
    "    :param unscaled_logits: The final activations produced by your model.\n",
    "    :return: The loss value (a scalar).\n",
    "    \"\"\"\n",
    "    out = tf.nn.sigmoid_cross_entropy_with_logits(labels = labels, logits = unscaled_logits)\n",
    "    return tf.reduce_mean(out)\n",
    "    pass"
   ]
  },
  {
   "cell_type": "markdown",
   "metadata": {},
   "source": [
    "Using the layers above, you can now define a function that specifies the forward pass through your network. Please make sure that the first hidden layer has $128$ hidden units and the output layer has $1$ hidden unit. **Note**: Make sure that the forward pass does not compute the final prediction of your network, i.e the value returned by the function below should be used as the input to the *sigmoid* function."
   ]
  },
  {
   "cell_type": "code",
   "execution_count": 15,
   "metadata": {
    "collapsed": true
   },
   "outputs": [],
   "source": [
    "n_hidden_units = 128\n",
    "\n",
    "# TODO: implement the function below. This is where you build up your model architecture using the layers defined above.\n",
    "def forward(x, input_shape):\n",
    "    \"\"\"\n",
    "    Define the forward pass of your network. Be careful to consider that your data comes in batches.\n",
    "    :param x: The input to your model.\n",
    "    :param input_shape: The shape of the input.\n",
    "    :return: The (unscaled) logit computed by the network.\n",
    "    \"\"\"\n",
    "    with tf.variable_scope(\"hidden\"):\n",
    "        (lin1,shape1) = linear_layer(input_shape, n_hidden_units, x)\n",
    "        relu1 = relu(lin1)\n",
    "    with tf.variable_scope(\"outer\"):\n",
    "        (lin2,shape2) = linear_layer(shape1, 1, relu1)\n",
    "    return lin2\n",
    "    pass"
   ]
  },
  {
   "cell_type": "markdown",
   "metadata": {},
   "source": [
    "Now that the first part of the forward path of the neural network is defined, we need a function that computes the actual predictions of the model using the activations returned by `forward`."
   ]
  },
  {
   "cell_type": "code",
   "execution_count": 16,
   "metadata": {
    "collapsed": true
   },
   "outputs": [],
   "source": [
    "# TODO: implement the function below.\n",
    "def inference(unscaled_logits):\n",
    "    \"\"\"\n",
    "    Define the predictions computed by your network\n",
    "    :param unscaled_logits: The (unscaled) logit computed by the network.\n",
    "    :return: The prediction of your model on input x.\n",
    "    \"\"\"\n",
    "    return sigmoid(unscaled_logits)\n",
    "    pass"
   ]
  },
  {
   "cell_type": "markdown",
   "metadata": {},
   "source": [
    "Using the `cross_entropy` layer and the `forward` function defined above, please implement the loss function for your network."
   ]
  },
  {
   "cell_type": "code",
   "execution_count": 17,
   "metadata": {
    "collapsed": true
   },
   "outputs": [],
   "source": [
    "# TODO: implement the function below.\n",
    "def loss(x, y, input_shape):\n",
    "    \"\"\"\n",
    "    Define the loss between the prediction of your model and the actual label.\n",
    "    :param x: The input to your model.\n",
    "    :param y: \n",
    "    :param input_shape: The shape of the input.\n",
    "    :return: The loss between what your model predicts and the true label.\n",
    "    \"\"\"\n",
    "    out1 = forward(x, input_shape)\n",
    "    #pred = inference(out1)\n",
    "    #return cross_entropy_loss(y, pred)\n",
    "    return cross_entropy_loss(y, out1)\n",
    "    pass"
   ]
  },
  {
   "cell_type": "markdown",
   "metadata": {},
   "source": [
    "$b)$ Define the computation graph of your model using the functions implemented above."
   ]
  },
  {
   "cell_type": "markdown",
   "metadata": {},
   "source": [
    "So far, all that you have done was defining functions that return a **symbolic representation** of the functions computed inside your network. Remember that when using TensorFlow you always need to define a computation graph of your model. Now, use the functions implemented above to define the computation graph for your model."
   ]
  },
  {
   "cell_type": "code",
   "execution_count": 18,
   "metadata": {
    "collapsed": true
   },
   "outputs": [],
   "source": [
    "# Define the computational graph for your model\n",
    "input_shape = (None, 2) # each input has 2 features\n",
    "output_shape = (None, 1) # the output of the model is a scalar corresponding to the probability of belong to class 1 or 2.\n",
    "\n",
    "# TODO: Define placeholers for the input and output\n",
    "\n",
    "inputs = tf.placeholder(tf.float32, shape = input_shape)\n",
    "outputs = tf.placeholder(tf.float32, shape = output_shape)\n",
    "\n",
    "# TODO: Define the model final activations, predictions and loss of the network\n",
    "with tf.variable_scope(\"inits\") as scope:\n",
    "    #final_activation = tf.py_func(forward, [inputs, input_shape], tf.float32);\n",
    "    #predictions = tf.py_func(inference,[final_activation], tf.float32);\n",
    "    #nw_loss = tf.py_func(loss, [inputs, outputs, input_shape], tf.float32);\n",
    "    try:\n",
    "        final_activation = forward(inputs, (tf.shape(inputs)[0],input_shape[1]));\n",
    "        predictions = inference(final_activation);\n",
    "        scope.reuse_variables()\n",
    "        nw_loss = loss(inputs, outputs, (tf.shape(inputs)[0],input_shape[1]));\n",
    "    except ValueError:\n",
    "        scope.reuse_variables();\n",
    "        final_activation = forward(inputs, (tf.shape(inputs)[0],input_shape[1]));\n",
    "        predictions = inference(final_activation);\n",
    "        nw_loss = loss(inputs, outputs, (tf.shape(inputs)[0],input_shape[1]));\n",
    "init = tf.global_variables_initializer()"
   ]
  },
  {
   "cell_type": "markdown",
   "metadata": {},
   "source": [
    "$b)$ Now that we have defined a computation graph for our model we need to train it on training data. Hence, define the optimizer for your model and implement the training loop. After each epoch, print the accuracy of your model on the training data. Once training phase is done, evaluate the test accuracy of your model and plot the **decision boundary** of your trained model."
   ]
  },
  {
   "cell_type": "markdown",
   "metadata": {},
   "source": [
    "Hint: When evaluating the predictions of your model make sure to compute the class labels from the output of the sigmoid layer before comparing them to the ground truth labels. As a threshold use $0.5$."
   ]
  },
  {
   "cell_type": "code",
   "execution_count": 19,
   "metadata": {
    "collapsed": true
   },
   "outputs": [],
   "source": [
    "# TODO: Define the gradient descent optimizer\n",
    "learning_rate = 1e-1"
   ]
  },
  {
   "cell_type": "code",
   "execution_count": 20,
   "metadata": {
    "collapsed": true
   },
   "outputs": [],
   "source": [
    "# shuffle only the training data along axis 0\n",
    "def shuffle_train_data(X_train, Y_train):\n",
    "    \"\"\"called after each epoch\"\"\"\n",
    "    perm = np.random.permutation(len(Y_train))\n",
    "    Xtr_shuf = X_train[perm]\n",
    "    Ytr_shuf = Y_train[perm]\n",
    "    \n",
    "    return Xtr_shuf, Ytr_shuf"
   ]
  },
  {
   "cell_type": "code",
   "execution_count": 21,
   "metadata": {
    "collapsed": true
   },
   "outputs": [],
   "source": [
    "def plot_helper(X):\n",
    "    h = 0.02\n",
    "    x_min, x_max = X[:, 0].min() - 1, X[:, 0].max() + 1\n",
    "    y_min, y_max = X[:, 1].min() - 1, X[:, 1].max() + 1\n",
    "    xx, yy = np.meshgrid(np.arange(x_min, x_max, h),\n",
    "                         np.arange(y_min, y_max, h))\n",
    "    \n",
    "    return (xx, yy)\n"
   ]
  },
  {
   "cell_type": "code",
   "execution_count": 22,
   "metadata": {
    "scrolled": true
   },
   "outputs": [
    {
     "name": "stdout",
     "output_type": "stream",
     "text": [
      "Epoch: 0\n",
      "Loss on training data: 0.186684\n",
      "Accuracy on training data: 92.22222222222223 %\n",
      "Epoch: 1\n",
      "Loss on training data: 0.190933\n",
      "Accuracy on training data: 91.85185185185185 %\n",
      "Epoch: 2\n",
      "Loss on training data: 0.123468\n",
      "Accuracy on training data: 93.7037037037037 %\n",
      "Epoch: 3\n",
      "Loss on training data: 0.160617\n",
      "Accuracy on training data: 93.33333333333333 %\n",
      "Epoch: 4\n",
      "Loss on training data: 0.0936764\n",
      "Accuracy on training data: 97.4074074074074 %\n",
      "Epoch: 5\n",
      "Loss on training data: 0.0778411\n",
      "Accuracy on training data: 98.88888888888889 %\n",
      "Epoch: 6\n",
      "Loss on training data: 0.0764467\n",
      "Accuracy on training data: 98.51851851851852 %\n",
      "Epoch: 7\n",
      "Loss on training data: 0.231339\n",
      "Accuracy on training data: 91.11111111111111 %\n",
      "Epoch: 8\n",
      "Loss on training data: 0.118668\n",
      "Accuracy on training data: 95.55555555555556 %\n",
      "Epoch: 9\n",
      "Loss on training data: 0.059402\n",
      "Accuracy on training data: 99.25925925925925 %\n",
      "Training Done!!\n",
      "Let's see how we do with test data...\n",
      "Accuracy on test data: 100.0 %\n"
     ]
    }
   ],
   "source": [
    "# Define training parameters\n",
    "epochs = 10 # we train our model for 10 epochs. You can change this value to observe how the accuracy changes.\n",
    "batch_size = 10 # we use a fixed batch size of 10 data points per batch.\n",
    "n = len(X_train)\n",
    "\n",
    "# Start a Session \n",
    "with tf.Session() as sess:\n",
    "    input_shape = (batch_size, input_shape[1])\n",
    "    output_shape = (batch_size, output_shape[1])\n",
    "    sess.run(init)\n",
    "    # TODO: Perform training\n",
    "    for epoch in range(epochs):\n",
    "        num_batches = n // batch_size\n",
    "        Xtr_shuf, Ytr_shuf = shuffle_train_data(X_train, y_train)\n",
    "        print (\"Epoch:\",epoch)\n",
    "        for b in range(num_batches):\n",
    "            x_batch = Xtr_shuf[b*batch_size:min(((b+1)*batch_size),n),:]\n",
    "            y_batch = Ytr_shuf[b*batch_size:min(((b+1)*batch_size),n),:]\n",
    "            active_vals = sess.run(final_activation,feed_dict={inputs:x_batch})\n",
    "            #print (active_vals)\n",
    "            preds = sess.run(predictions,feed_dict={inputs:x_batch})\n",
    "            #print (np.shape(preds))\n",
    "            calc_loss = sess.run(nw_loss,feed_dict={inputs:x_batch,outputs:y_batch})\n",
    "            #print (calc_loss)\n",
    "            optimizer = tf.train.GradientDescentOptimizer(learning_rate)\n",
    "            sess.run(optimizer.minimize(nw_loss),feed_dict={inputs:x_batch,outputs:y_batch})\n",
    "            pass\n",
    "        print (\"Loss on training data:\",sess.run(nw_loss,feed_dict={inputs:Xtr_shuf,outputs:Ytr_shuf}))\n",
    "        correct = 0\n",
    "        pred_train = sess.run(predictions, feed_dict={inputs:Xtr_shuf})\n",
    "        for i in range(len(pred_train)):\n",
    "            if pred_train[i] >= 0.5:\n",
    "                pred_train[i] = 1\n",
    "            else:\n",
    "                pred_train[i] = 0\n",
    "            if pred_train[i] == Ytr_shuf[i]:\n",
    "                correct += 1\n",
    "        print (\"Accuracy on training data:\",(correct/n)*100,\"%\")\n",
    "    print(\"Training Done!!\")\n",
    "    print(\"Let's see how we do with test data...\")\n",
    "    pred_test = sess.run(predictions,feed_dict={inputs:X_test})\n",
    "    test_corr = 0\n",
    "    for i in range(len(X_test)):\n",
    "        if pred_test[i] >= 0.5:\n",
    "            pred_test[i] = 1\n",
    "        else:\n",
    "            pred_test[i] = 0\n",
    "        if pred_test[i] == y_test[i]:\n",
    "            test_corr += 1\n",
    "    #print(\"Loss:\",sess.run(nw_loss,feed_dict={inputs:X_test,outputs:y_test}))\n",
    "    print (\"Accuracy on test data:\",(test_corr/len(X_test))*100,\"%\")\n",
    "    xx,yy = plot_helper(X_train)\n",
    "    data = np.c_[xx.ravel(), yy.ravel()]\n",
    "    shape = xx.shape\n",
    "    Z = sess.run(predictions, feed_dict={inputs:data})\n",
    "    Z = Z.reshape(shape)\n",
    "    sess.close()"
   ]
  },
  {
   "cell_type": "code",
   "execution_count": 23,
   "metadata": {},
   "outputs": [
    {
     "data": {
      "image/png": "[encoded data removed]",
      "text/plain": [
       "<matplotlib.figure.Figure at 0x108376e10>"
      ]
     },
     "metadata": {},
     "output_type": "display_data"
    }
   ],
   "source": [
    "Z_cp = Z\n",
    "xx,yy = plot_helper(X_train)\n",
    "for i in np.nditer(Z_cp,op_flags=['readwrite']):\n",
    "    if i >= 0.5:\n",
    "        i[...] = 1\n",
    "    else:\n",
    "        i[...] = 0\n",
    "\n",
    "plt.contourf(xx, yy, Z_cp,1,cmap=plt.cm.bone);\n",
    "#plt.clabel(p, inline=1, fontsize=10)\n",
    "plt.scatter(X_train[: , 0], X_train[: , 1], c=y_train, cmap='Set1');\n",
    "plt.scatter(X_test[: , 0], X_test[: , 1], c=y_test, marker='x',cmap='Set1');"
   ]
  },
  {
   "cell_type": "markdown",
   "metadata": {},
   "source": [
    "**Points**: 12.0 of 12.0\n",
    "**Comments**:\n",
    "- Well done!\n",
    "- Please remove the `pass` statements in your functions next time."
   ]
  },
  {
   "cell_type": "markdown",
   "metadata": {},
   "source": [
    "$d)$ **Bonus**: Restructure your code in order to use TensorBoard for displaying the computation graph defined by your model. Additonally, use TensorBoard to log the training and test accuracy of your network during training. (See [here](https://www.tensorflow.org/get_started/summaries_and_tensorboard) for an introduction to TensorBoard.) (+ $2.0$ points)"
   ]
  },
  {
   "cell_type": "markdown",
   "metadata": {},
   "source": [
    "## 3. Role of the activation function (3.0 points)"
   ]
  },
  {
   "cell_type": "markdown",
   "metadata": {},
   "source": [
    "For this exercise it is useful to have a plot of the decision boundary of your trained model."
   ]
  },
  {
   "cell_type": "markdown",
   "metadata": {},
   "source": [
    "$a)$ Remove the nonlinearity in your TensorFlow model above, then retrain the model and evaluate its accuracy. What do you observe? ($1.0$ point)"
   ]
  },
  {
   "cell_type": "code",
   "execution_count": 24,
   "metadata": {
    "collapsed": true
   },
   "outputs": [],
   "source": [
    "n_hidden_units = 128\n",
    "\n",
    "# TODO: implement the function below. This is where you build up your model architecture using the layers defined above.\n",
    "def forward_lin_1(x, input_shape):\n",
    "    \"\"\"\n",
    "    Define the forward pass of your network. Be careful to consider that your data comes in batches.\n",
    "    :param x: The input to your model.\n",
    "    :param input_shape: The shape of the input.\n",
    "    :return: The (unscaled) logit computed by the network.\n",
    "    \"\"\"\n",
    "    with tf.variable_scope(\"hidden\"):\n",
    "        (lin1,shape1) = linear_layer(input_shape, n_hidden_units, x)\n",
    "        #relu1 = relu(lin1)\n",
    "    with tf.variable_scope(\"outer\"):\n",
    "        (lin2,shape2) = linear_layer(shape1, 1, lin1)\n",
    "    return lin2\n",
    "    pass\n",
    "\n",
    "# TODO: implement the function below.\n",
    "def loss_lin_1(x, y, input_shape):\n",
    "    \"\"\"\n",
    "    Define the loss between the prediction of your model and the actual label.\n",
    "    :param x: The input to your model.\n",
    "    :param y: \n",
    "    :param input_shape: The shape of the input.\n",
    "    :return: The loss between what your model predicts and the true label.\n",
    "    \"\"\"\n",
    "    out1 = forward_lin_1(x, input_shape)\n",
    "    #pred = inference(out1)\n",
    "    #return cross_entropy_loss(y, pred)\n",
    "    return cross_entropy_loss(y, out1)\n",
    "    pass\n",
    "\n",
    "# TODO: implement the function below.\n",
    "def inference_lin_1(unscaled_logits):\n",
    "    \"\"\"\n",
    "    Define the predictions computed by your network\n",
    "    :param unscaled_logits: The (unscaled) logit computed by the network.\n",
    "    :return: The prediction of your model on input x.\n",
    "    \"\"\"\n",
    "    return sigmoid(unscaled_logits)\n",
    "    pass"
   ]
  },
  {
   "cell_type": "code",
   "execution_count": null,
   "metadata": {
    "collapsed": true
   },
   "outputs": [],
   "source": [
    "input_shape = (None, 2) # each input has 2 features\n",
    "output_shape = (None, 1) # the output of the model is a scalar corresponding to the probability of belong to class 1 or 2.\n",
    "\n",
    "# TODO: Define placeholers for the input and output\n",
    "\n",
    "inputs_lin_1 = tf.placeholder(tf.float32, shape = input_shape)\n",
    "outputs_lin_1 = tf.placeholder(tf.float32, shape = output_shape)\n",
    "\n",
    "# TODO: Define the model final activations, predictions and loss of the network\n",
    "with tf.variable_scope(\"inits_lin_1\") as scope:\n",
    "    #final_activation = tf.py_func(forward, [inputs, input_shape], tf.float32);\n",
    "    #predictions = tf.py_func(inference,[final_activation], tf.float32);\n",
    "    #nw_loss = tf.py_func(loss, [inputs, outputs, input_shape], tf.float32);\n",
    "    try:\n",
    "        final_activation_lin_1 = forward_lin_1(inputs_lin_1, (tf.shape(inputs_lin_1)[0],input_shape[1]));\n",
    "        predictions_lin_1 = inference_lin_1(final_activation_lin_1);\n",
    "        nw_loss_lin_1 = loss_lin_1(inputs_lin_1, outputs_lin_1, (tf.shape(inputs_lin_1)[0],input_shape[1]));\n",
    "    except ValueError:\n",
    "        scope.reuse_variables();\n",
    "        final_activation_lin_1 = forward_lin_1(inputs_lin_1, (tf.shape(inputs_lin_1)[0],input_shape[1]));\n",
    "        predictions_lin_1 = inference_lin_1(final_activation_lin_1);\n",
    "        nw_loss_lin_1 = loss_lin_1(inputs_lin_1, outputs_lin_1, (tf.shape(inputs_lin_1)[0],input_shape[1]));\n",
    "init_lin_1 = tf.global_variables_initializer()"
   ]
  },
  {
   "cell_type": "code",
   "execution_count": null,
   "metadata": {},
   "outputs": [
    {
     "name": "stdout",
     "output_type": "stream",
     "text": [
      "Epoch: 0\n",
      "Loss: 0.501536\n",
      "Accuracy on training data: 82.22222222222221 %\n",
      "Epoch: 1\n"
     ]
    }
   ],
   "source": [
    "# Define training parameters\n",
    "epochs = 10 # we train our model for 10 epochs. You can change this value to observe how the accuracy changes.\n",
    "batch_size = 10 # we use a fixed batch size of 10 data points per batch.\n",
    "n = len(X_train)\n",
    "\n",
    "# Start a Session \n",
    "with tf.Session() as sess_lin_1:\n",
    "    input_shape = (batch_size, input_shape[1])\n",
    "    output_shape = (batch_size, output_shape[1])\n",
    "    sess_lin_1.run(init_lin_1)\n",
    "    # TODO: Perform training\n",
    "    for epoch in range(epochs):\n",
    "        num_batches = n // batch_size\n",
    "        Xtr_shuf, Ytr_shuf = shuffle_train_data(X_train, y_train)\n",
    "        print (\"Epoch:\",epoch)\n",
    "        for b in range(num_batches):\n",
    "            x_batch = Xtr_shuf[b*batch_size:min(((b+1)*batch_size),n),:]\n",
    "            y_batch = Ytr_shuf[b*batch_size:min(((b+1)*batch_size),n),:]\n",
    "            active_vals_1 = sess_lin_1.run(final_activation_lin_1,feed_dict={inputs_lin_1:x_batch})\n",
    "            #print (active_vals)\n",
    "            preds_1 = sess_lin_1.run(predictions_lin_1,feed_dict={inputs_lin_1:x_batch})\n",
    "            #print (np.shape(preds))\n",
    "            calc_loss_1 = sess_lin_1.run(nw_loss_lin_1,feed_dict={inputs_lin_1:x_batch,outputs_lin_1:y_batch})\n",
    "            #print (calc_loss)\n",
    "            optimizer_lin_1 = tf.train.GradientDescentOptimizer(learning_rate)\n",
    "            sess_lin_1.run(optimizer_lin_1.minimize(nw_loss_lin_1),feed_dict={inputs_lin_1:x_batch,outputs_lin_1:y_batch})\n",
    "            pass\n",
    "        #print (\"Loss on training data:\",sess.run(nw_loss,feed_dict={inputs:X_train,outputs:y_train}))\n",
    "        correct = 0\n",
    "        pred_train_1 = sess_lin_1.run(predictions_lin_1, feed_dict={inputs_lin_1:Xtr_shuf})\n",
    "        for i in range(len(pred_train_1)):\n",
    "            if pred_train_1[i] >= 0.5:\n",
    "                pred_train_1[i] = 1\n",
    "            else:\n",
    "                pred_train_1[i] = 0\n",
    "            if pred_train_1[i] == Ytr_shuf[i]:\n",
    "                correct += 1\n",
    "        print(\"Loss:\",sess_lin_1.run(nw_loss_lin_1,feed_dict={inputs_lin_1:X_train,outputs_lin_1:y_train}))\n",
    "        print (\"Accuracy on training data:\",(correct/n)*100,\"%\")\n",
    "        \n",
    "    print(\"Training Done!!\")\n",
    "    print(\"Let's see how we do with test data...\")\n",
    "    pred_test_1 = sess_lin_1.run(predictions_lin_1,feed_dict={inputs_lin_1:X_test})\n",
    "    test_corr = 0\n",
    "    for i in range(len(X_test)):\n",
    "        if pred_test_1[i] >= 0.5:\n",
    "            pred_test_1[i] = 1\n",
    "        else:\n",
    "            pred_test_1[i] = 0\n",
    "        if pred_test_1[i] == y_test[i]:\n",
    "            test_corr += 1\n",
    "    print(\"Loss:\",sess_lin_1.run(nw_loss_lin_1,feed_dict={inputs_lin_1:X_test,outputs_lin_1:y_test}))\n",
    "    print (\"Accuracy on test data:\",(test_corr/len(X_test))*100,\"%\")\n",
    "    xx,yy = plot_helper(X_train)\n",
    "    data = np.c_[xx.ravel(), yy.ravel()]\n",
    "    shape = xx.shape\n",
    "    Z1 = sess_lin_1.run(predictions_lin_1, feed_dict={inputs_lin_1:data})\n",
    "    Z1 = Z1.reshape(shape)\n",
    "    sess_lin_1.close()"
   ]
  },
  {
   "cell_type": "code",
   "execution_count": null,
   "metadata": {
    "collapsed": true
   },
   "outputs": [],
   "source": [
    "xx,yy = plot_helper(X_train)\n",
    "Z1_cp = Z1\n",
    "\n",
    "for i in np.nditer(Z1_cp,op_flags=['readwrite']):\n",
    "    if i >= 0.5:\n",
    "        i[...] = 1\n",
    "    else:\n",
    "        i[...] = 0\n",
    "plt.contourf(xx, yy, Z1_cp, 1,cmap=plt.cm.bone);\n",
    "plt.scatter(X_train[: , 0], X_train[: , 1], c=y_train, cmap='Set1');\n",
    "plt.scatter(X_test[: , 0], X_test[: , 1], c=y_test, marker='x',cmap='Set1');"
   ]
  },
  {
   "cell_type": "markdown",
   "metadata": {},
   "source": [
    "$b$) With the nonlinearity removed, do the following: Add an additional hidden layer without nonlinearity in the `forward()` function. Retrain the model and evaluate its accuracy. What do you observe? ($1.0$ point)"
   ]
  },
  {
   "cell_type": "code",
   "execution_count": null,
   "metadata": {
    "collapsed": true
   },
   "outputs": [],
   "source": [
    "n_hidden_units = 128\n",
    "\n",
    "# TODO: implement the function below. This is where you build up your model architecture using the layers defined above.\n",
    "def forward_lin_2(x, input_shape):\n",
    "    \"\"\"\n",
    "    Define the forward pass of your network. Be careful to consider that your data comes in batches.\n",
    "    :param x: The input to your model.\n",
    "    :param input_shape: The shape of the input.\n",
    "    :return: The (unscaled) logit computed by the network.\n",
    "    \"\"\"\n",
    "    with tf.variable_scope(\"hidden1\"):\n",
    "        (lin1,shape1) = linear_layer(input_shape, n_hidden_units, x)\n",
    "        #relu1 = relu(lin1)\n",
    "    with tf.variable_scope(\"hidden2\"):\n",
    "        (lin2,shape2) = linear_layer(shape1, n_hidden_units, lin1)\n",
    "    with tf.variable_scope(\"outer\"):\n",
    "        (lin3,shape3) = linear_layer(shape2, 1, lin2)\n",
    "    return lin3\n",
    "    pass\n",
    "\n",
    "# TODO: implement the function below.\n",
    "def loss_lin_2(x, y, input_shape):\n",
    "    \"\"\"\n",
    "    Define the loss between the prediction of your model and the actual label.\n",
    "    :param x: The input to your model.\n",
    "    :param y: \n",
    "    :param input_shape: The shape of the input.\n",
    "    :return: The loss between what your model predicts and the true label.\n",
    "    \"\"\"\n",
    "    out1 = forward_lin_2(x, input_shape)\n",
    "    #pred = inference(out1)\n",
    "    #return cross_entropy_loss(y, pred)\n",
    "    return cross_entropy_loss(y, out1)\n",
    "    pass\n",
    "\n",
    "# TODO: implement the function below.\n",
    "def inference_lin_2(unscaled_logits):\n",
    "    \"\"\"\n",
    "    Define the predictions computed by your network\n",
    "    :param unscaled_logits: The (unscaled) logit computed by the network.\n",
    "    :return: The prediction of your model on input x.\n",
    "    \"\"\"\n",
    "    return sigmoid(unscaled_logits)\n",
    "    pass"
   ]
  },
  {
   "cell_type": "code",
   "execution_count": null,
   "metadata": {
    "collapsed": true
   },
   "outputs": [],
   "source": [
    "input_shape = (None, 2) # each input has 2 features\n",
    "output_shape = (None, 1) # the output of the model is a scalar corresponding to the probability of belong to class 1 or 2.\n",
    "\n",
    "# TODO: Define placeholers for the input and output\n",
    "\n",
    "inputs_lin_2 = tf.placeholder(tf.float32, shape = input_shape)\n",
    "outputs_lin_2 = tf.placeholder(tf.float32, shape = output_shape)\n",
    "\n",
    "# TODO: Define the model final activations, predictions and loss of the network\n",
    "with tf.variable_scope(\"inits_lin_2\") as scope:\n",
    "    #final_activation = tf.py_func(forward, [inputs, input_shape], tf.float32);\n",
    "    #predictions = tf.py_func(inference,[final_activation], tf.float32);\n",
    "    #nw_loss = tf.py_func(loss, [inputs, outputs, input_shape], tf.float32);\n",
    "    try:\n",
    "        final_activation_lin_2 = forward_lin_2(inputs_lin_2, (tf.shape(inputs_lin_2)[0],input_shape[1]));\n",
    "        predictions_lin_2 = inference_lin_2(final_activation_lin_2);\n",
    "        scope.reuse_variables();\n",
    "        nw_loss_lin_2 = loss_lin_2(inputs_lin_2, outputs_lin_2, (tf.shape(inputs_lin_2)[0],input_shape[1]));\n",
    "    except ValueError:\n",
    "        scope.reuse_variables();\n",
    "        final_activation_lin_2 = forward_lin_2(inputs_lin_2, (tf.shape(inputs_lin_2)[0],input_shape[1]));\n",
    "        predictions_lin_2 = inference_lin_2(final_activation_lin_2);\n",
    "        nw_loss_lin_2 = loss_lin_2(inputs_lin_2, outputs_lin_2, (tf.shape(inputs_lin_2)[0],input_shape[1]));\n",
    "init_lin_2 = tf.global_variables_initializer()"
   ]
  },
  {
   "cell_type": "code",
   "execution_count": null,
   "metadata": {
    "collapsed": true
   },
   "outputs": [],
   "source": [
    "# Define training parameters\n",
    "epochs = 10 # we train our model for 10 epochs. You can change this value to observe how the accuracy changes.\n",
    "batch_size = 10 # we use a fixed batch size of 10 data points per batch.\n",
    "n = len(X_train)\n",
    "\n",
    "# Start a Session \n",
    "with tf.Session() as sess_lin_2:\n",
    "    input_shape = (batch_size, input_shape[1])\n",
    "    output_shape = (batch_size, output_shape[1])\n",
    "    sess_lin_2.run(init_lin_2)\n",
    "    # TODO: Perform training\n",
    "    for epoch in range(epochs):\n",
    "        num_batches = n // batch_size\n",
    "        Xtr_shuf, Ytr_shuf = shuffle_train_data(X_train, y_train)\n",
    "        print (\"Epoch:\",epoch)\n",
    "        for b in range(num_batches):\n",
    "            x_batch = Xtr_shuf[b*batch_size:min(((b+1)*batch_size),n),:]\n",
    "            y_batch = Ytr_shuf[b*batch_size:min(((b+1)*batch_size),n),:]\n",
    "            active_vals_2 = sess_lin_2.run(final_activation_lin_2,feed_dict={inputs_lin_2:x_batch})\n",
    "            #print (active_vals)\n",
    "            preds_2 = sess_lin_2.run(predictions_lin_2,feed_dict={inputs_lin_2:x_batch})\n",
    "            #print (np.shape(preds))\n",
    "            calc_loss_2 = sess_lin_2.run(nw_loss_lin_2,feed_dict={inputs_lin_2:x_batch,outputs_lin_2:y_batch})\n",
    "            #print (calc_loss)\n",
    "            optimizer_lin_2 = tf.train.GradientDescentOptimizer(learning_rate)\n",
    "            sess_lin_2.run(optimizer_lin_2.minimize(nw_loss_lin_2),feed_dict={inputs_lin_2:x_batch,outputs_lin_2:y_batch})\n",
    "            pass\n",
    "        #print (\"Loss on training data:\",sess.run(nw_loss,feed_dict={inputs:X_train,outputs:y_train}))\n",
    "        correct = 0\n",
    "        pred_train_2 = sess_lin_2.run(predictions_lin_2, feed_dict={inputs_lin_2:X_train})\n",
    "        for i in range(len(pred_train_2)):\n",
    "            if pred_train_2[i] >= 0.5:\n",
    "                pred_train_2[i] = 1\n",
    "            else:\n",
    "                pred_train_2[i] = 0\n",
    "            if pred_train_2[i] == y_train[i]:\n",
    "                correct += 1\n",
    "        print (\"Accuracy on training data:\",(correct/n)*100,\"%\")\n",
    "    print(\"Training Done!!\")\n",
    "    print(\"Let's see how we do with test data...\")\n",
    "    pred_test_2 = sess_lin_2.run(predictions_lin_2,feed_dict={inputs_lin_2:X_test})\n",
    "    test_corr = 0\n",
    "    for i in range(len(X_test)):\n",
    "        if pred_test_2[i] >= 0.5:\n",
    "            pred_test_2[i] = 1\n",
    "        else:\n",
    "            pred_test_2[i] = 0\n",
    "        if pred_test_2[i] == y_test[i]:\n",
    "            test_corr += 1\n",
    "    #print(\"Loss:\",sess.run(nw_loss,feed_dict={inputs:X_test,outputs:y_test}))\n",
    "    print (\"Accuracy on test data:\",(test_corr/len(X_test))*100,\"%\")\n",
    "    xx,yy = plot_helper(X_train)\n",
    "    data = np.c_[xx.ravel(), yy.ravel()]\n",
    "    shape = xx.shape\n",
    "    Z2 = sess_lin_2.run(predictions_lin_2, feed_dict={inputs_lin_2:data})\n",
    "    Z2 = Z2.reshape(shape)\n",
    "    sess_lin_2.close()"
   ]
  },
  {
   "cell_type": "code",
   "execution_count": null,
   "metadata": {
    "collapsed": true
   },
   "outputs": [],
   "source": [
    "xx,yy = plot_helper(X_train)\n",
    "plt.contourf(xx, yy, Z2, 1,cmap=plt.cm.bone);\n",
    "\n",
    "for i in np.nditer(Z2,op_flags=['readwrite']):\n",
    "    if i >= 0.5:\n",
    "        i[...] = 1\n",
    "    else:\n",
    "        i[...] = 0\n",
    "\n",
    "plt.scatter(X_train[: , 0], X_train[: , 1], c=y_train, cmap='Set1');\n",
    "plt.scatter(X_test[: , 0], X_test[: , 1], c=y_test, marker='x',cmap='Set1');"
   ]
  },
  {
   "cell_type": "markdown",
   "metadata": {},
   "source": [
    "$c$) What is the reason for this behaviour? Can you come up with a proof of the underlying mathematical fact? ($1.0$ point)"
   ]
  },
  {
   "cell_type": "markdown",
   "metadata": {},
   "source": [
    "Once we have removed the non-linear activation function from the hidden layer, we only have a logistic regression model left. Even if we add another hidden layer without any non-linearity, it is still essentially a logistic regression model. This model can only provide a linear decision boundary, which cannot partition the data set properly if we need a non-linear boundary, as in the case of this data set. No matter how many linear hidden layers we add, we cannot improve the performance, as seen above. The overall prediction capability remains the same. We get improvement only when we add non-linearity to our hidden layers.\n",
    "This is the reason why the logistic regression model fares worse when compared to our neural network with the ReLU activator.\n",
    "\n",
    "\n",
    "So, we get only a linear boundary prediction."
   ]
  },
  {
   "cell_type": "code",
   "execution_count": 2,
   "metadata": {},
   "outputs": [
    {
     "data": {
      "text/html": [
       "<img src=\"https://github.com/jojoayan1992/SaarlandUniversityNeuralNetworks/blob/master/NNIA5_Q3_1.jpg?raw=true\"/>"
      ],
      "text/plain": [
       "<IPython.core.display.Image object>"
      ]
     },
     "execution_count": 2,
     "metadata": {},
     "output_type": "execute_result"
    }
   ],
   "source": [
    "from IPython.display import Image\n",
    "Image(url='https://github.com/jojoayan1992/SaarlandUniversityNeuralNetworks/blob/master/NNIA5_Q3_1.jpg?raw=true')"
   ]
  },
  {
   "cell_type": "markdown",
   "metadata": {},
   "source": [
    "**Points**: 3.0 of 3.0\n",
    "**Comments**:\n",
    "- well done! Please present your solution in the tutorial. Thanks!"
   ]
  },
  {
   "cell_type": "markdown",
   "metadata": {},
   "source": [
    "* --- *"
   ]
  },
  {
   "cell_type": "markdown",
   "metadata": {},
   "source": [
    "## Grading: 20.0 of 20.0 points + 0.0 bonus points. Well done!"
   ]
  },
  {
   "cell_type": "markdown",
   "metadata": {},
   "source": [
    "---"
   ]
  },
  {
   "cell_type": "markdown",
   "metadata": {},
   "source": [
    "## Submission instructions\n",
    "You should provide a single Jupyter notebook as a solution. The naming should include the assignment number and matriculation IDs of all team members in the following format:\n",
    "**assignment-5_matriculation1_matriculation_2_matriculation3.ipynb** (in case of 3 team members). \n",
    "Make sure to keep the order matriculation1_matriculation_2_matriculation3 the same for all assignments.\n",
    "\n",
    "Please, submit your solution to your tutor (with **[NNIA][assignment-5]** in email subject):\n",
    "1. Maksym Andriushchenko s8mmandr@stud.uni-saarland.de\n",
    "2. Marius Mosbach s9msmosb@stud.uni-saarland.de\n",
    "3. Rajarshi Biswas rbisw17@gmail.com\n",
    "4. Marimuthu Kalimuthu s8makali@stud.uni-saarland.de\n",
    "\n",
    "**If you are in a team, please submit only 1 solution to only 1 tutor.**"
   ]
  }
 ],
 "metadata": {
  "kernelspec": {
   "display_name": "Python 3",
   "language": "python",
   "name": "python3"
  },
  "language_info": {
   "codemirror_mode": {
    "name": "ipython",
    "version": 3
   },
   "file_extension": ".py",
   "mimetype": "text/x-python",
   "name": "python",
   "nbconvert_exporter": "python",
   "pygments_lexer": "ipython3",
   "version": "3.6.2"
  }
 },
 "nbformat": 4,
 "nbformat_minor": 2
}
